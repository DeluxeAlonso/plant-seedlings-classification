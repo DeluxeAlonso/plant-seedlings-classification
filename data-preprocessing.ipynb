{
 "cells": [
  {
   "cell_type": "code",
   "execution_count": null,
   "metadata": {
    "collapsed": true
   },
   "outputs": [
    {
     "name": "stderr",
     "output_type": "stream",
     "text": [
      "Using TensorFlow backend.\n"
     ]
    }
   ],
   "source": [
    "import os\n",
    "import PIL\n",
    "import h5py\n",
    "import math\n",
    "import numpy as np\n",
    "import matplotlib.pyplot as plt\n",
    "from keras.applications.resnet50 import preprocess_input, ResNet50\n",
    "from keras.utils.np_utils import to_categorical\n",
    "\n",
    "%matplotlib inline"
   ]
  },
  {
   "cell_type": "code",
   "execution_count": 2,
   "metadata": {},
   "outputs": [],
   "source": [
    "OUT_FILE = 'data/train_data.h5'\n",
    "METADATA = 'metadata.npy'\n",
    "DATA_FOLDER = 'data/train'\n",
    "SHAPE = (250, 250, 3)\n",
    "BATCH_SIZE = 16"
   ]
  },
  {
   "cell_type": "code",
   "execution_count": 3,
   "metadata": {
    "collapsed": true
   },
   "outputs": [
    {
     "name": "stdout",
     "output_type": "stream",
     "text": [
      "['data/train/Black-grass', 'data/train/Charlock', 'data/train/Cleavers', 'data/train/Common Chickweed', 'data/train/Common wheat', 'data/train/Fat Hen', 'data/train/Loose Silky-bent', 'data/train/Maize', 'data/train/Scentless Mayweed', 'data/train/Shepherds Purse', 'data/train/Small-flowered Cranesbill', 'data/train/Sugar beet']\n"
     ]
    },
    {
     "name": "stdout",
     "output_type": "stream",
     "text": [
      "model output shape: {} (None, 1, 1, 2048)\n"
     ]
    }
   ],
   "source": [
    "labels = os.listdir(DATA_FOLDER)\n",
    "labels = [l for l in labels if \".DS_Store\" not in l]\n",
    "labels_path = [os.path.join(DATA_FOLDER, l) for l in labels]\n",
    "print(labels_path)\n",
    "n_labels = len(labels)\n",
    "n_images = np.sum([len(os.listdir(l)) for l in labels_path])\n",
    "\n",
    "label2idx = {j:to_categorical(i, n_labels)[0] for i,j in enumerate(labels)}\n",
    "np.save(METADATA, label2idx)\n",
    "\n",
    "model = ResNet50(include_top=False, input_shape=SHAPE)\n",
    "model.layers.pop()\n",
    "    \n",
    "print('model output shape: {}', model.output_shape)\n",
    "\n",
    "f = h5py.File(OUT_FILE)\n",
    "output_shape = (n_images, *model.output_shape[1:])\n",
    "chunk_shape = (BATCH_SIZE, *model.output_shape[1:])\n",
    "try:\n",
    "    f.pop('x')\n",
    "    f.pop('y')\n",
    "except:\n",
    "    None\n",
    "\n",
    "img_data = f.create_dataset('x', shape=output_shape,\n",
    "                            dtype=np.float32, chunks=chunk_shape)\n",
    "labels_data = f.create_dataset('y', shape=(n_images, n_labels),\n",
    "                               dtype=np.float32, chunks=(BATCH_SIZE, n_labels))"
   ]
  },
  {
   "cell_type": "code",
   "execution_count": 4,
   "metadata": {},
   "outputs": [
    {
     "name": "stdout",
     "output_type": "stream",
     "text": [
      "Black-grass: 0000/0263 (ETA: 999.00s)...\r"
     ]
    },
    {
     "name": "stdout",
     "output_type": "stream",
     "text": [
      "Black-grass: 0016/0263 (ETA: 3303.57s)...\r"
     ]
    },
    {
     "name": "stdout",
     "output_type": "stream",
     "text": [
      "Black-grass: 0032/0263 (ETA: 3186.85s)...\r"
     ]
    },
    {
     "name": "stdout",
     "output_type": "stream",
     "text": [
      "Black-grass: 0048/0263 (ETA: 3341.80s)...\r"
     ]
    },
    {
     "name": "stdout",
     "output_type": "stream",
     "text": [
      "Black-grass: 0064/0263 (ETA: 3343.87s)...\r"
     ]
    },
    {
     "name": "stdout",
     "output_type": "stream",
     "text": [
      "Black-grass: 0080/0263 (ETA: 3307.97s)...\r"
     ]
    },
    {
     "name": "stdout",
     "output_type": "stream",
     "text": [
      "Black-grass: 0096/0263 (ETA: 3293.47s)...\r"
     ]
    },
    {
     "name": "stdout",
     "output_type": "stream",
     "text": [
      "Black-grass: 0112/0263 (ETA: 3424.66s)...\r"
     ]
    },
    {
     "name": "stdout",
     "output_type": "stream",
     "text": [
      "Black-grass: 0128/0263 (ETA: 3377.54s)...\r"
     ]
    },
    {
     "name": "stdout",
     "output_type": "stream",
     "text": [
      "Black-grass: 0144/0263 (ETA: 3379.42s)...\r"
     ]
    },
    {
     "name": "stdout",
     "output_type": "stream",
     "text": [
      "Black-grass: 0160/0263 (ETA: 3422.85s)...\r"
     ]
    },
    {
     "name": "stdout",
     "output_type": "stream",
     "text": [
      "Black-grass: 0176/0263 (ETA: 3423.75s)...\r"
     ]
    },
    {
     "name": "stdout",
     "output_type": "stream",
     "text": [
      "Black-grass: 0192/0263 (ETA: 3236.52s)...\r"
     ]
    },
    {
     "name": "stdout",
     "output_type": "stream",
     "text": [
      "Black-grass: 0208/0263 (ETA: 3208.43s)...\r"
     ]
    },
    {
     "name": "stdout",
     "output_type": "stream",
     "text": [
      "Black-grass: 0224/0263 (ETA: 3060.55s)...\r"
     ]
    },
    {
     "name": "stdout",
     "output_type": "stream",
     "text": [
      "Black-grass: 0240/0263 (ETA: 2907.08s)...\r"
     ]
    },
    {
     "name": "stdout",
     "output_type": "stream",
     "text": [
      "Black-grass: 0256/0263 (ETA: 2801.24s)...\r"
     ]
    },
    {
     "name": "stdout",
     "output_type": "stream",
     "text": [
      "                                                  \rBlack-grass: Done\nCharlock: 0000/0390 (ETA: 2784.05s)...\r"
     ]
    },
    {
     "name": "stdout",
     "output_type": "stream",
     "text": [
      "Charlock: 0016/0390 (ETA: 2646.95s)...\r"
     ]
    },
    {
     "name": "stdout",
     "output_type": "stream",
     "text": [
      "Charlock: 0032/0390 (ETA: 2635.36s)...\r"
     ]
    },
    {
     "name": "stdout",
     "output_type": "stream",
     "text": [
      "Charlock: 0048/0390 (ETA: 2605.99s)...\r"
     ]
    },
    {
     "name": "stdout",
     "output_type": "stream",
     "text": [
      "Charlock: 0064/0390 (ETA: 2571.51s)...\r"
     ]
    },
    {
     "name": "stdout",
     "output_type": "stream",
     "text": [
      "Charlock: 0080/0390 (ETA: 2538.69s)...\r"
     ]
    },
    {
     "name": "stdout",
     "output_type": "stream",
     "text": [
      "Charlock: 0096/0390 (ETA: 2527.37s)...\r"
     ]
    },
    {
     "name": "stdout",
     "output_type": "stream",
     "text": [
      "Charlock: 0112/0390 (ETA: 2508.08s)...\r"
     ]
    },
    {
     "name": "stdout",
     "output_type": "stream",
     "text": [
      "Charlock: 0128/0390 (ETA: 2500.36s)...\r"
     ]
    },
    {
     "name": "stdout",
     "output_type": "stream",
     "text": [
      "Charlock: 0144/0390 (ETA: 2480.13s)...\r"
     ]
    },
    {
     "name": "stdout",
     "output_type": "stream",
     "text": [
      "Charlock: 0160/0390 (ETA: 2470.01s)...\r"
     ]
    },
    {
     "name": "stdout",
     "output_type": "stream",
     "text": [
      "Charlock: 0176/0390 (ETA: 2454.49s)...\r"
     ]
    },
    {
     "name": "stdout",
     "output_type": "stream",
     "text": [
      "Charlock: 0192/0390 (ETA: 2452.30s)...\r"
     ]
    },
    {
     "name": "stdout",
     "output_type": "stream",
     "text": [
      "Charlock: 0208/0390 (ETA: 2452.27s)...\r"
     ]
    },
    {
     "name": "stdout",
     "output_type": "stream",
     "text": [
      "Charlock: 0224/0390 (ETA: 2451.87s)...\r"
     ]
    },
    {
     "name": "stdout",
     "output_type": "stream",
     "text": [
      "Charlock: 0240/0390 (ETA: 2450.42s)...\r"
     ]
    },
    {
     "name": "stdout",
     "output_type": "stream",
     "text": [
      "Charlock: 0256/0390 (ETA: 2445.64s)...\r"
     ]
    },
    {
     "name": "stdout",
     "output_type": "stream",
     "text": [
      "Charlock: 0272/0390 (ETA: 2424.15s)...\r"
     ]
    },
    {
     "name": "stdout",
     "output_type": "stream",
     "text": [
      "Charlock: 0288/0390 (ETA: 2408.28s)...\r"
     ]
    },
    {
     "name": "stdout",
     "output_type": "stream",
     "text": [
      "Charlock: 0304/0390 (ETA: 2399.74s)...\r"
     ]
    },
    {
     "name": "stdout",
     "output_type": "stream",
     "text": [
      "Charlock: 0320/0390 (ETA: 2384.57s)...\r"
     ]
    },
    {
     "name": "stdout",
     "output_type": "stream",
     "text": [
      "Charlock: 0336/0390 (ETA: 2367.00s)...\r"
     ]
    },
    {
     "name": "stdout",
     "output_type": "stream",
     "text": [
      "Charlock: 0352/0390 (ETA: 2367.23s)...\r"
     ]
    },
    {
     "name": "stdout",
     "output_type": "stream",
     "text": [
      "Charlock: 0368/0390 (ETA: 2360.26s)...\r"
     ]
    },
    {
     "name": "stdout",
     "output_type": "stream",
     "text": [
      "Charlock: 0384/0390 (ETA: 2356.00s)...\r"
     ]
    },
    {
     "name": "stdout",
     "output_type": "stream",
     "text": [
      "                                                  \rCharlock: Done\nCleavers: 0000/0287 (ETA: 2366.76s)...\r"
     ]
    },
    {
     "name": "stdout",
     "output_type": "stream",
     "text": [
      "Cleavers: 0016/0287 (ETA: 2355.64s)...\r"
     ]
    },
    {
     "name": "stdout",
     "output_type": "stream",
     "text": [
      "Cleavers: 0032/0287 (ETA: 2337.58s)...\r"
     ]
    },
    {
     "name": "stdout",
     "output_type": "stream",
     "text": [
      "Cleavers: 0048/0287 (ETA: 2323.13s)...\r"
     ]
    },
    {
     "name": "stdout",
     "output_type": "stream",
     "text": [
      "Cleavers: 0064/0287 (ETA: 2300.64s)...\r"
     ]
    },
    {
     "name": "stdout",
     "output_type": "stream",
     "text": [
      "Cleavers: 0080/0287 (ETA: 2271.04s)...\r"
     ]
    },
    {
     "name": "stdout",
     "output_type": "stream",
     "text": [
      "Cleavers: 0096/0287 (ETA: 2259.47s)...\r"
     ]
    },
    {
     "name": "stdout",
     "output_type": "stream",
     "text": [
      "Cleavers: 0112/0287 (ETA: 2249.35s)...\r"
     ]
    },
    {
     "name": "stdout",
     "output_type": "stream",
     "text": [
      "Cleavers: 0128/0287 (ETA: 2238.93s)...\r"
     ]
    },
    {
     "name": "stdout",
     "output_type": "stream",
     "text": [
      "Cleavers: 0144/0287 (ETA: 2234.37s)...\r"
     ]
    },
    {
     "name": "stdout",
     "output_type": "stream",
     "text": [
      "Cleavers: 0160/0287 (ETA: 2223.07s)...\r"
     ]
    },
    {
     "name": "stdout",
     "output_type": "stream",
     "text": [
      "Cleavers: 0176/0287 (ETA: 2215.50s)...\r"
     ]
    },
    {
     "name": "stdout",
     "output_type": "stream",
     "text": [
      "Cleavers: 0192/0287 (ETA: 2204.03s)...\r"
     ]
    },
    {
     "name": "stdout",
     "output_type": "stream",
     "text": [
      "Cleavers: 0208/0287 (ETA: 2199.82s)...\r"
     ]
    },
    {
     "name": "stdout",
     "output_type": "stream",
     "text": [
      "Cleavers: 0224/0287 (ETA: 2185.34s)...\r"
     ]
    },
    {
     "name": "stdout",
     "output_type": "stream",
     "text": [
      "Cleavers: 0240/0287 (ETA: 2181.53s)...\r"
     ]
    },
    {
     "name": "stdout",
     "output_type": "stream",
     "text": [
      "Cleavers: 0256/0287 (ETA: 2172.55s)...\r"
     ]
    },
    {
     "name": "stdout",
     "output_type": "stream",
     "text": [
      "Cleavers: 0272/0287 (ETA: 2170.79s)...\r"
     ]
    },
    {
     "name": "stdout",
     "output_type": "stream",
     "text": [
      "                                                  \rCleavers: Done\nCommon Chickweed: 0000/0611 (ETA: 2160.93s)...\r"
     ]
    },
    {
     "name": "stdout",
     "output_type": "stream",
     "text": [
      "Common Chickweed: 0016/0611 (ETA: 2153.59s)...\r"
     ]
    },
    {
     "name": "stdout",
     "output_type": "stream",
     "text": [
      "Common Chickweed: 0032/0611 (ETA: 2138.33s)...\r"
     ]
    },
    {
     "name": "stdout",
     "output_type": "stream",
     "text": [
      "Common Chickweed: 0048/0611 (ETA: 2126.50s)...\r"
     ]
    },
    {
     "name": "stdout",
     "output_type": "stream",
     "text": [
      "Common Chickweed: 0064/0611 (ETA: 2111.88s)...\r"
     ]
    },
    {
     "name": "stdout",
     "output_type": "stream",
     "text": [
      "Common Chickweed: 0080/0611 (ETA: 2095.03s)...\r"
     ]
    },
    {
     "name": "stdout",
     "output_type": "stream",
     "text": [
      "Common Chickweed: 0096/0611 (ETA: 2088.51s)...\r"
     ]
    },
    {
     "name": "stdout",
     "output_type": "stream",
     "text": [
      "Common Chickweed: 0112/0611 (ETA: 2079.32s)...\r"
     ]
    },
    {
     "name": "stdout",
     "output_type": "stream",
     "text": [
      "Common Chickweed: 0128/0611 (ETA: 2074.89s)...\r"
     ]
    },
    {
     "name": "stdout",
     "output_type": "stream",
     "text": [
      "Common Chickweed: 0144/0611 (ETA: 2061.46s)...\r"
     ]
    },
    {
     "name": "stdout",
     "output_type": "stream",
     "text": [
      "Common Chickweed: 0160/0611 (ETA: 2054.85s)...\r"
     ]
    },
    {
     "name": "stdout",
     "output_type": "stream",
     "text": [
      "Common Chickweed: 0176/0611 (ETA: 2042.05s)...\r"
     ]
    },
    {
     "name": "stdout",
     "output_type": "stream",
     "text": [
      "Common Chickweed: 0192/0611 (ETA: 2035.12s)...\r"
     ]
    },
    {
     "name": "stdout",
     "output_type": "stream",
     "text": [
      "Common Chickweed: 0208/0611 (ETA: 2023.01s)...\r"
     ]
    },
    {
     "name": "stdout",
     "output_type": "stream",
     "text": [
      "Common Chickweed: 0224/0611 (ETA: 2016.16s)...\r"
     ]
    },
    {
     "name": "stdout",
     "output_type": "stream",
     "text": [
      "Common Chickweed: 0240/0611 (ETA: 2005.29s)...\r"
     ]
    },
    {
     "name": "stdout",
     "output_type": "stream",
     "text": [
      "Common Chickweed: 0256/0611 (ETA: 1998.85s)...\r"
     ]
    },
    {
     "name": "stdout",
     "output_type": "stream",
     "text": [
      "Common Chickweed: 0272/0611 (ETA: 1989.54s)...\r"
     ]
    },
    {
     "name": "stdout",
     "output_type": "stream",
     "text": [
      "Common Chickweed: 0288/0611 (ETA: 1994.97s)...\r"
     ]
    },
    {
     "name": "stdout",
     "output_type": "stream",
     "text": [
      "Common Chickweed: 0304/0611 (ETA: 1985.39s)...\r"
     ]
    },
    {
     "name": "stdout",
     "output_type": "stream",
     "text": [
      "Common Chickweed: 0320/0611 (ETA: 1977.10s)...\r"
     ]
    },
    {
     "name": "stdout",
     "output_type": "stream",
     "text": [
      "Common Chickweed: 0336/0611 (ETA: 1964.81s)...\r"
     ]
    },
    {
     "name": "stdout",
     "output_type": "stream",
     "text": [
      "Common Chickweed: 0352/0611 (ETA: 1957.30s)...\r"
     ]
    },
    {
     "name": "stdout",
     "output_type": "stream",
     "text": [
      "Common Chickweed: 0368/0611 (ETA: 1936.56s)...\r"
     ]
    },
    {
     "name": "stdout",
     "output_type": "stream",
     "text": [
      "Common Chickweed: 0384/0611 (ETA: 1928.77s)...\r"
     ]
    },
    {
     "name": "stdout",
     "output_type": "stream",
     "text": [
      "Common Chickweed: 0400/0611 (ETA: 1920.23s)...\r"
     ]
    },
    {
     "name": "stdout",
     "output_type": "stream",
     "text": [
      "Common Chickweed: 0416/0611 (ETA: 1913.10s)...\r"
     ]
    },
    {
     "name": "stdout",
     "output_type": "stream",
     "text": [
      "Common Chickweed: 0432/0611 (ETA: 1899.06s)...\r"
     ]
    },
    {
     "name": "stdout",
     "output_type": "stream",
     "text": [
      "Common Chickweed: 0448/0611 (ETA: 1889.19s)...\r"
     ]
    },
    {
     "name": "stdout",
     "output_type": "stream",
     "text": [
      "Common Chickweed: 0464/0611 (ETA: 1879.89s)...\r"
     ]
    },
    {
     "name": "stdout",
     "output_type": "stream",
     "text": [
      "Common Chickweed: 0480/0611 (ETA: 1877.49s)...\r"
     ]
    },
    {
     "name": "stdout",
     "output_type": "stream",
     "text": [
      "Common Chickweed: 0496/0611 (ETA: 1870.49s)...\r"
     ]
    },
    {
     "name": "stdout",
     "output_type": "stream",
     "text": [
      "Common Chickweed: 0512/0611 (ETA: 1864.18s)...\r"
     ]
    },
    {
     "name": "stdout",
     "output_type": "stream",
     "text": [
      "Common Chickweed: 0528/0611 (ETA: 1855.21s)...\r"
     ]
    },
    {
     "name": "stdout",
     "output_type": "stream",
     "text": [
      "Common Chickweed: 0544/0611 (ETA: 1846.05s)...\r"
     ]
    },
    {
     "name": "stdout",
     "output_type": "stream",
     "text": [
      "Common Chickweed: 0560/0611 (ETA: 1830.92s)...\r"
     ]
    },
    {
     "name": "stdout",
     "output_type": "stream",
     "text": [
      "Common Chickweed: 0576/0611 (ETA: 1820.44s)...\r"
     ]
    },
    {
     "name": "stdout",
     "output_type": "stream",
     "text": [
      "Common Chickweed: 0592/0611 (ETA: 1811.90s)...\r"
     ]
    },
    {
     "name": "stdout",
     "output_type": "stream",
     "text": [
      "Common Chickweed: 0608/0611 (ETA: 1802.60s)...\r"
     ]
    },
    {
     "name": "stdout",
     "output_type": "stream",
     "text": [
      "                                                  \rCommon Chickweed: Done\nCommon wheat: 0000/0221 (ETA: 1813.04s)...\r"
     ]
    },
    {
     "name": "stdout",
     "output_type": "stream",
     "text": [
      "Common wheat: 0016/0221 (ETA: 1813.13s)...\r"
     ]
    },
    {
     "name": "stdout",
     "output_type": "stream",
     "text": [
      "Common wheat: 0032/0221 (ETA: 1818.39s)...\r"
     ]
    },
    {
     "name": "stdout",
     "output_type": "stream",
     "text": [
      "Common wheat: 0048/0221 (ETA: 1821.77s)...\r"
     ]
    },
    {
     "name": "stdout",
     "output_type": "stream",
     "text": [
      "Common wheat: 0064/0221 (ETA: 1817.99s)...\r"
     ]
    },
    {
     "name": "stdout",
     "output_type": "stream",
     "text": [
      "Common wheat: 0080/0221 (ETA: 1803.17s)...\r"
     ]
    },
    {
     "name": "stdout",
     "output_type": "stream",
     "text": [
      "Common wheat: 0096/0221 (ETA: 1795.09s)...\r"
     ]
    },
    {
     "name": "stdout",
     "output_type": "stream",
     "text": [
      "Common wheat: 0112/0221 (ETA: 1788.16s)...\r"
     ]
    },
    {
     "name": "stdout",
     "output_type": "stream",
     "text": [
      "Common wheat: 0128/0221 (ETA: 1776.09s)...\r"
     ]
    },
    {
     "name": "stdout",
     "output_type": "stream",
     "text": [
      "Common wheat: 0144/0221 (ETA: 1769.48s)...\r"
     ]
    },
    {
     "name": "stdout",
     "output_type": "stream",
     "text": [
      "Common wheat: 0160/0221 (ETA: 1759.79s)...\r"
     ]
    },
    {
     "name": "stdout",
     "output_type": "stream",
     "text": [
      "Common wheat: 0176/0221 (ETA: 1740.90s)...\r"
     ]
    },
    {
     "name": "stdout",
     "output_type": "stream",
     "text": [
      "Common wheat: 0192/0221 (ETA: 1719.13s)...\r"
     ]
    },
    {
     "name": "stdout",
     "output_type": "stream",
     "text": [
      "Common wheat: 0208/0221 (ETA: 1706.07s)...\r"
     ]
    },
    {
     "name": "stdout",
     "output_type": "stream",
     "text": [
      "                                                  \rCommon wheat: Done\nFat Hen: 0000/0475 (ETA: 1703.34s)...\r"
     ]
    },
    {
     "name": "stdout",
     "output_type": "stream",
     "text": [
      "Fat Hen: 0016/0475 (ETA: 1689.28s)...\r"
     ]
    },
    {
     "name": "stdout",
     "output_type": "stream",
     "text": [
      "Fat Hen: 0032/0475 (ETA: 1683.44s)...\r"
     ]
    },
    {
     "name": "stdout",
     "output_type": "stream",
     "text": [
      "Fat Hen: 0048/0475 (ETA: 1670.10s)...\r"
     ]
    },
    {
     "name": "stdout",
     "output_type": "stream",
     "text": [
      "Fat Hen: 0064/0475 (ETA: 1657.74s)...\r"
     ]
    },
    {
     "name": "stdout",
     "output_type": "stream",
     "text": [
      "Fat Hen: 0080/0475 (ETA: 1638.10s)...\r"
     ]
    },
    {
     "name": "stdout",
     "output_type": "stream",
     "text": [
      "Fat Hen: 0096/0475 (ETA: 1630.35s)...\r"
     ]
    },
    {
     "name": "stdout",
     "output_type": "stream",
     "text": [
      "Fat Hen: 0112/0475 (ETA: 1622.31s)...\r"
     ]
    },
    {
     "name": "stdout",
     "output_type": "stream",
     "text": [
      "Fat Hen: 0128/0475 (ETA: 1614.98s)...\r"
     ]
    },
    {
     "name": "stdout",
     "output_type": "stream",
     "text": [
      "Fat Hen: 0144/0475 (ETA: 1607.72s)...\r"
     ]
    },
    {
     "name": "stdout",
     "output_type": "stream",
     "text": [
      "Fat Hen: 0160/0475 (ETA: 1599.47s)...\r"
     ]
    },
    {
     "name": "stdout",
     "output_type": "stream",
     "text": [
      "Fat Hen: 0176/0475 (ETA: 1588.78s)...\r"
     ]
    },
    {
     "name": "stdout",
     "output_type": "stream",
     "text": [
      "Fat Hen: 0192/0475 (ETA: 1576.26s)...\r"
     ]
    },
    {
     "name": "stdout",
     "output_type": "stream",
     "text": [
      "Fat Hen: 0208/0475 (ETA: 1565.13s)...\r"
     ]
    },
    {
     "name": "stdout",
     "output_type": "stream",
     "text": [
      "Fat Hen: 0224/0475 (ETA: 1555.79s)...\r"
     ]
    },
    {
     "name": "stdout",
     "output_type": "stream",
     "text": [
      "Fat Hen: 0240/0475 (ETA: 1544.81s)...\r"
     ]
    },
    {
     "name": "stdout",
     "output_type": "stream",
     "text": [
      "Fat Hen: 0256/0475 (ETA: 1538.09s)...\r"
     ]
    },
    {
     "name": "stdout",
     "output_type": "stream",
     "text": [
      "Fat Hen: 0272/0475 (ETA: 1527.17s)...\r"
     ]
    },
    {
     "name": "stdout",
     "output_type": "stream",
     "text": [
      "Fat Hen: 0288/0475 (ETA: 1524.05s)...\r"
     ]
    },
    {
     "name": "stdout",
     "output_type": "stream",
     "text": [
      "Fat Hen: 0304/0475 (ETA: 1514.44s)...\r"
     ]
    },
    {
     "name": "stdout",
     "output_type": "stream",
     "text": [
      "Fat Hen: 0320/0475 (ETA: 1505.39s)...\r"
     ]
    },
    {
     "name": "stdout",
     "output_type": "stream",
     "text": [
      "Fat Hen: 0336/0475 (ETA: 1496.61s)...\r"
     ]
    },
    {
     "name": "stdout",
     "output_type": "stream",
     "text": [
      "Fat Hen: 0352/0475 (ETA: 1488.57s)...\r"
     ]
    },
    {
     "name": "stdout",
     "output_type": "stream",
     "text": [
      "Fat Hen: 0368/0475 (ETA: 1477.19s)...\r"
     ]
    },
    {
     "name": "stdout",
     "output_type": "stream",
     "text": [
      "Fat Hen: 0384/0475 (ETA: 1466.75s)...\r"
     ]
    },
    {
     "name": "stdout",
     "output_type": "stream",
     "text": [
      "Fat Hen: 0400/0475 (ETA: 1456.52s)...\r"
     ]
    },
    {
     "name": "stdout",
     "output_type": "stream",
     "text": [
      "Fat Hen: 0416/0475 (ETA: 1445.65s)...\r"
     ]
    },
    {
     "name": "stdout",
     "output_type": "stream",
     "text": [
      "Fat Hen: 0432/0475 (ETA: 1438.31s)...\r"
     ]
    },
    {
     "name": "stdout",
     "output_type": "stream",
     "text": [
      "Fat Hen: 0448/0475 (ETA: 1430.28s)...\r"
     ]
    },
    {
     "name": "stdout",
     "output_type": "stream",
     "text": [
      "Fat Hen: 0464/0475 (ETA: 1429.14s)...\r"
     ]
    },
    {
     "name": "stdout",
     "output_type": "stream",
     "text": [
      "                                                  \rFat Hen: Done\nLoose Silky-bent: 0000/0654 (ETA: 1421.08s)...\r"
     ]
    },
    {
     "name": "stdout",
     "output_type": "stream",
     "text": [
      "Loose Silky-bent: 0016/0654 (ETA: 1432.35s)...\r"
     ]
    },
    {
     "name": "stdout",
     "output_type": "stream",
     "text": [
      "Loose Silky-bent: 0032/0654 (ETA: 1431.08s)...\r"
     ]
    },
    {
     "name": "stdout",
     "output_type": "stream",
     "text": [
      "Loose Silky-bent: 0048/0654 (ETA: 1428.69s)...\r"
     ]
    },
    {
     "name": "stdout",
     "output_type": "stream",
     "text": [
      "Loose Silky-bent: 0064/0654 (ETA: 1416.07s)...\r"
     ]
    },
    {
     "name": "stdout",
     "output_type": "stream",
     "text": [
      "Loose Silky-bent: 0080/0654 (ETA: 1411.32s)...\r"
     ]
    },
    {
     "name": "stdout",
     "output_type": "stream",
     "text": [
      "Loose Silky-bent: 0096/0654 (ETA: 1401.27s)...\r"
     ]
    },
    {
     "name": "stdout",
     "output_type": "stream",
     "text": [
      "Loose Silky-bent: 0112/0654 (ETA: 1383.39s)...\r"
     ]
    },
    {
     "name": "stdout",
     "output_type": "stream",
     "text": [
      "Loose Silky-bent: 0128/0654 (ETA: 1366.99s)...\r"
     ]
    },
    {
     "name": "stdout",
     "output_type": "stream",
     "text": [
      "Loose Silky-bent: 0144/0654 (ETA: 1352.18s)...\r"
     ]
    },
    {
     "name": "stdout",
     "output_type": "stream",
     "text": [
      "Loose Silky-bent: 0160/0654 (ETA: 1342.25s)...\r"
     ]
    },
    {
     "name": "stdout",
     "output_type": "stream",
     "text": [
      "Loose Silky-bent: 0176/0654 (ETA: 1312.62s)...\r"
     ]
    },
    {
     "name": "stdout",
     "output_type": "stream",
     "text": [
      "Loose Silky-bent: 0192/0654 (ETA: 1313.85s)...\r"
     ]
    },
    {
     "name": "stdout",
     "output_type": "stream",
     "text": [
      "Loose Silky-bent: 0208/0654 (ETA: 1303.36s)...\r"
     ]
    },
    {
     "name": "stdout",
     "output_type": "stream",
     "text": [
      "Loose Silky-bent: 0224/0654 (ETA: 1297.88s)...\r"
     ]
    },
    {
     "name": "stdout",
     "output_type": "stream",
     "text": [
      "Loose Silky-bent: 0240/0654 (ETA: 1287.73s)...\r"
     ]
    },
    {
     "name": "stdout",
     "output_type": "stream",
     "text": [
      "Loose Silky-bent: 0256/0654 (ETA: 1285.24s)...\r"
     ]
    },
    {
     "name": "stdout",
     "output_type": "stream",
     "text": [
      "Loose Silky-bent: 0272/0654 (ETA: 1267.83s)...\r"
     ]
    },
    {
     "name": "stdout",
     "output_type": "stream",
     "text": [
      "Loose Silky-bent: 0288/0654 (ETA: 1259.69s)...\r"
     ]
    },
    {
     "name": "stdout",
     "output_type": "stream",
     "text": [
      "Loose Silky-bent: 0304/0654 (ETA: 1252.49s)...\r"
     ]
    },
    {
     "name": "stdout",
     "output_type": "stream",
     "text": [
      "Loose Silky-bent: 0320/0654 (ETA: 1264.54s)...\r"
     ]
    },
    {
     "name": "stdout",
     "output_type": "stream",
     "text": [
      "Loose Silky-bent: 0336/0654 (ETA: 1249.74s)...\r"
     ]
    },
    {
     "name": "stdout",
     "output_type": "stream",
     "text": [
      "Loose Silky-bent: 0352/0654 (ETA: 1238.44s)...\r"
     ]
    },
    {
     "name": "stdout",
     "output_type": "stream",
     "text": [
      "Loose Silky-bent: 0368/0654 (ETA: 1227.84s)...\r"
     ]
    },
    {
     "name": "stdout",
     "output_type": "stream",
     "text": [
      "Loose Silky-bent: 0384/0654 (ETA: 1217.90s)...\r"
     ]
    },
    {
     "name": "stdout",
     "output_type": "stream",
     "text": [
      "Loose Silky-bent: 0400/0654 (ETA: 1187.83s)...\r"
     ]
    },
    {
     "name": "stdout",
     "output_type": "stream",
     "text": [
      "Loose Silky-bent: 0416/0654 (ETA: 1199.49s)...\r"
     ]
    },
    {
     "name": "stdout",
     "output_type": "stream",
     "text": [
      "Loose Silky-bent: 0432/0654 (ETA: 1188.64s)...\r"
     ]
    },
    {
     "name": "stdout",
     "output_type": "stream",
     "text": [
      "Loose Silky-bent: 0448/0654 (ETA: 1180.21s)...\r"
     ]
    },
    {
     "name": "stdout",
     "output_type": "stream",
     "text": [
      "Loose Silky-bent: 0464/0654 (ETA: 1168.48s)...\r"
     ]
    },
    {
     "name": "stdout",
     "output_type": "stream",
     "text": [
      "Loose Silky-bent: 0480/0654 (ETA: 1185.80s)...\r"
     ]
    },
    {
     "name": "stdout",
     "output_type": "stream",
     "text": [
      "Loose Silky-bent: 0496/0654 (ETA: 1155.80s)...\r"
     ]
    },
    {
     "name": "stdout",
     "output_type": "stream",
     "text": [
      "Loose Silky-bent: 0512/0654 (ETA: 1152.79s)...\r"
     ]
    },
    {
     "name": "stdout",
     "output_type": "stream",
     "text": [
      "Loose Silky-bent: 0528/0654 (ETA: 1142.22s)...\r"
     ]
    },
    {
     "name": "stdout",
     "output_type": "stream",
     "text": [
      "Loose Silky-bent: 0544/0654 (ETA: 1135.24s)...\r"
     ]
    },
    {
     "name": "stdout",
     "output_type": "stream",
     "text": [
      "Loose Silky-bent: 0560/0654 (ETA: 1111.48s)...\r"
     ]
    },
    {
     "name": "stdout",
     "output_type": "stream",
     "text": [
      "Loose Silky-bent: 0576/0654 (ETA: 1101.33s)...\r"
     ]
    },
    {
     "name": "stdout",
     "output_type": "stream",
     "text": [
      "Loose Silky-bent: 0592/0654 (ETA: 1099.31s)...\r"
     ]
    },
    {
     "name": "stdout",
     "output_type": "stream",
     "text": [
      "Loose Silky-bent: 0608/0654 (ETA: 1101.51s)...\r"
     ]
    },
    {
     "name": "stdout",
     "output_type": "stream",
     "text": [
      "Loose Silky-bent: 0624/0654 (ETA: 1088.45s)...\r"
     ]
    },
    {
     "name": "stdout",
     "output_type": "stream",
     "text": [
      "Loose Silky-bent: 0640/0654 (ETA: 1069.82s)...\r"
     ]
    },
    {
     "name": "stdout",
     "output_type": "stream",
     "text": [
      "                                                  \rLoose Silky-bent: Done\nMaize: 0000/0221 (ETA: 1068.06s)...\r"
     ]
    },
    {
     "name": "stdout",
     "output_type": "stream",
     "text": [
      "Maize: 0016/0221 (ETA: 1055.65s)...\r"
     ]
    },
    {
     "name": "stdout",
     "output_type": "stream",
     "text": [
      "Maize: 0032/0221 (ETA: 1034.49s)...\r"
     ]
    },
    {
     "name": "stdout",
     "output_type": "stream",
     "text": [
      "Maize: 0048/0221 (ETA: 1027.43s)...\r"
     ]
    },
    {
     "name": "stdout",
     "output_type": "stream",
     "text": [
      "Maize: 0064/0221 (ETA: 1022.24s)...\r"
     ]
    },
    {
     "name": "stdout",
     "output_type": "stream",
     "text": [
      "Maize: 0080/0221 (ETA: 1016.10s)...\r"
     ]
    },
    {
     "name": "stdout",
     "output_type": "stream",
     "text": [
      "Maize: 0096/0221 (ETA: 1005.52s)...\r"
     ]
    },
    {
     "name": "stdout",
     "output_type": "stream",
     "text": [
      "Maize: 0112/0221 (ETA: 1003.20s)...\r"
     ]
    },
    {
     "name": "stdout",
     "output_type": "stream",
     "text": [
      "Maize: 0128/0221 (ETA: 1002.27s)...\r"
     ]
    },
    {
     "name": "stdout",
     "output_type": "stream",
     "text": [
      "Maize: 0144/0221 (ETA: 995.30s)...\r"
     ]
    },
    {
     "name": "stdout",
     "output_type": "stream",
     "text": [
      "Maize: 0160/0221 (ETA: 988.84s)...\r"
     ]
    },
    {
     "name": "stdout",
     "output_type": "stream",
     "text": [
      "Maize: 0176/0221 (ETA: 981.18s)...\r"
     ]
    },
    {
     "name": "stdout",
     "output_type": "stream",
     "text": [
      "Maize: 0192/0221 (ETA: 972.23s)...\r"
     ]
    },
    {
     "name": "stdout",
     "output_type": "stream",
     "text": [
      "Maize: 0208/0221 (ETA: 955.88s)...\r"
     ]
    },
    {
     "name": "stdout",
     "output_type": "stream",
     "text": [
      "                                                  \rMaize: Done\nScentless Mayweed: 0000/0516 (ETA: 947.00s)...\r"
     ]
    },
    {
     "name": "stdout",
     "output_type": "stream",
     "text": [
      "Scentless Mayweed: 0016/0516 (ETA: 925.15s)...\r"
     ]
    },
    {
     "name": "stdout",
     "output_type": "stream",
     "text": [
      "Scentless Mayweed: 0032/0516 (ETA: 908.29s)...\r"
     ]
    },
    {
     "name": "stdout",
     "output_type": "stream",
     "text": [
      "Scentless Mayweed: 0048/0516 (ETA: 891.30s)...\r"
     ]
    },
    {
     "name": "stdout",
     "output_type": "stream",
     "text": [
      "Scentless Mayweed: 0064/0516 (ETA: 877.41s)...\r"
     ]
    },
    {
     "name": "stdout",
     "output_type": "stream",
     "text": [
      "Scentless Mayweed: 0080/0516 (ETA: 861.29s)...\r"
     ]
    },
    {
     "name": "stdout",
     "output_type": "stream",
     "text": [
      "Scentless Mayweed: 0096/0516 (ETA: 856.66s)...\r"
     ]
    },
    {
     "name": "stdout",
     "output_type": "stream",
     "text": [
      "Scentless Mayweed: 0112/0516 (ETA: 846.30s)...\r"
     ]
    },
    {
     "name": "stdout",
     "output_type": "stream",
     "text": [
      "Scentless Mayweed: 0128/0516 (ETA: 836.53s)...\r"
     ]
    },
    {
     "name": "stdout",
     "output_type": "stream",
     "text": [
      "Scentless Mayweed: 0144/0516 (ETA: 828.26s)...\r"
     ]
    },
    {
     "name": "stdout",
     "output_type": "stream",
     "text": [
      "Scentless Mayweed: 0160/0516 (ETA: 819.35s)...\r"
     ]
    },
    {
     "name": "stdout",
     "output_type": "stream",
     "text": [
      "Scentless Mayweed: 0176/0516 (ETA: 807.37s)...\r"
     ]
    },
    {
     "name": "stdout",
     "output_type": "stream",
     "text": [
      "Scentless Mayweed: 0192/0516 (ETA: 799.88s)...\r"
     ]
    },
    {
     "name": "stdout",
     "output_type": "stream",
     "text": [
      "Scentless Mayweed: 0208/0516 (ETA: 793.68s)...\r"
     ]
    },
    {
     "name": "stdout",
     "output_type": "stream",
     "text": [
      "Scentless Mayweed: 0224/0516 (ETA: 784.05s)...\r"
     ]
    },
    {
     "name": "stdout",
     "output_type": "stream",
     "text": [
      "Scentless Mayweed: 0240/0516 (ETA: 774.60s)...\r"
     ]
    },
    {
     "name": "stdout",
     "output_type": "stream",
     "text": [
      "Scentless Mayweed: 0256/0516 (ETA: 767.42s)...\r"
     ]
    },
    {
     "name": "stdout",
     "output_type": "stream",
     "text": [
      "Scentless Mayweed: 0272/0516 (ETA: 756.91s)...\r"
     ]
    },
    {
     "name": "stdout",
     "output_type": "stream",
     "text": [
      "Scentless Mayweed: 0288/0516 (ETA: 746.30s)...\r"
     ]
    },
    {
     "name": "stdout",
     "output_type": "stream",
     "text": [
      "Scentless Mayweed: 0304/0516 (ETA: 738.28s)...\r"
     ]
    },
    {
     "name": "stdout",
     "output_type": "stream",
     "text": [
      "Scentless Mayweed: 0320/0516 (ETA: 729.66s)...\r"
     ]
    },
    {
     "name": "stdout",
     "output_type": "stream",
     "text": [
      "Scentless Mayweed: 0336/0516 (ETA: 720.81s)...\r"
     ]
    },
    {
     "name": "stdout",
     "output_type": "stream",
     "text": [
      "Scentless Mayweed: 0352/0516 (ETA: 711.26s)...\r"
     ]
    },
    {
     "name": "stdout",
     "output_type": "stream",
     "text": [
      "Scentless Mayweed: 0368/0516 (ETA: 703.50s)...\r"
     ]
    },
    {
     "name": "stdout",
     "output_type": "stream",
     "text": [
      "Scentless Mayweed: 0384/0516 (ETA: 696.07s)...\r"
     ]
    },
    {
     "name": "stdout",
     "output_type": "stream",
     "text": [
      "Scentless Mayweed: 0400/0516 (ETA: 686.25s)...\r"
     ]
    },
    {
     "name": "stdout",
     "output_type": "stream",
     "text": [
      "Scentless Mayweed: 0416/0516 (ETA: 675.32s)...\r"
     ]
    },
    {
     "name": "stdout",
     "output_type": "stream",
     "text": [
      "Scentless Mayweed: 0432/0516 (ETA: 666.83s)...\r"
     ]
    },
    {
     "name": "stdout",
     "output_type": "stream",
     "text": [
      "Scentless Mayweed: 0448/0516 (ETA: 656.49s)...\r"
     ]
    },
    {
     "name": "stdout",
     "output_type": "stream",
     "text": [
      "Scentless Mayweed: 0464/0516 (ETA: 644.77s)...\r"
     ]
    },
    {
     "name": "stdout",
     "output_type": "stream",
     "text": [
      "Scentless Mayweed: 0480/0516 (ETA: 638.07s)...\r"
     ]
    },
    {
     "name": "stdout",
     "output_type": "stream",
     "text": [
      "Scentless Mayweed: 0496/0516 (ETA: 630.76s)...\r"
     ]
    },
    {
     "name": "stdout",
     "output_type": "stream",
     "text": [
      "Scentless Mayweed: 0512/0516 (ETA: 622.73s)...\r"
     ]
    },
    {
     "name": "stdout",
     "output_type": "stream",
     "text": [
      "                                                  \rScentless Mayweed: Done\nShepherds Purse: 0000/0231 (ETA: 624.74s)...\r"
     ]
    },
    {
     "name": "stdout",
     "output_type": "stream",
     "text": [
      "Shepherds Purse: 0016/0231 (ETA: 617.17s)...\r"
     ]
    },
    {
     "name": "stdout",
     "output_type": "stream",
     "text": [
      "Shepherds Purse: 0032/0231 (ETA: 607.20s)...\r"
     ]
    },
    {
     "name": "stdout",
     "output_type": "stream",
     "text": [
      "Shepherds Purse: 0048/0231 (ETA: 599.33s)...\r"
     ]
    },
    {
     "name": "stdout",
     "output_type": "stream",
     "text": [
      "Shepherds Purse: 0064/0231 (ETA: 593.67s)...\r"
     ]
    },
    {
     "name": "stdout",
     "output_type": "stream",
     "text": [
      "Shepherds Purse: 0080/0231 (ETA: 582.92s)...\r"
     ]
    },
    {
     "name": "stdout",
     "output_type": "stream",
     "text": [
      "Shepherds Purse: 0096/0231 (ETA: 574.37s)...\r"
     ]
    },
    {
     "name": "stdout",
     "output_type": "stream",
     "text": [
      "Shepherds Purse: 0112/0231 (ETA: 565.74s)...\r"
     ]
    },
    {
     "name": "stdout",
     "output_type": "stream",
     "text": [
      "Shepherds Purse: 0128/0231 (ETA: 556.02s)...\r"
     ]
    },
    {
     "name": "stdout",
     "output_type": "stream",
     "text": [
      "Shepherds Purse: 0144/0231 (ETA: 544.06s)...\r"
     ]
    },
    {
     "name": "stdout",
     "output_type": "stream",
     "text": [
      "Shepherds Purse: 0160/0231 (ETA: 533.17s)...\r"
     ]
    },
    {
     "name": "stdout",
     "output_type": "stream",
     "text": [
      "Shepherds Purse: 0176/0231 (ETA: 523.83s)...\r"
     ]
    },
    {
     "name": "stdout",
     "output_type": "stream",
     "text": [
      "Shepherds Purse: 0192/0231 (ETA: 514.15s)...\r"
     ]
    },
    {
     "name": "stdout",
     "output_type": "stream",
     "text": [
      "Shepherds Purse: 0208/0231 (ETA: 506.65s)...\r"
     ]
    },
    {
     "name": "stdout",
     "output_type": "stream",
     "text": [
      "Shepherds Purse: 0224/0231 (ETA: 497.75s)...\r"
     ]
    },
    {
     "name": "stdout",
     "output_type": "stream",
     "text": [
      "                                                  \rShepherds Purse: Done\nSmall-flowered Cranesbill: 0000/0496 (ETA: 493.57s)...\r"
     ]
    },
    {
     "name": "stdout",
     "output_type": "stream",
     "text": [
      "Small-flowered Cranesbill: 0016/0496 (ETA: 484.93s)...\r"
     ]
    },
    {
     "name": "stdout",
     "output_type": "stream",
     "text": [
      "Small-flowered Cranesbill: 0032/0496 (ETA: 477.60s)...\r"
     ]
    },
    {
     "name": "stdout",
     "output_type": "stream",
     "text": [
      "Small-flowered Cranesbill: 0048/0496 (ETA: 467.78s)...\r"
     ]
    },
    {
     "name": "stdout",
     "output_type": "stream",
     "text": [
      "Small-flowered Cranesbill: 0064/0496 (ETA: 459.29s)...\r"
     ]
    },
    {
     "name": "stdout",
     "output_type": "stream",
     "text": [
      "Small-flowered Cranesbill: 0080/0496 (ETA: 451.05s)...\r"
     ]
    },
    {
     "name": "stdout",
     "output_type": "stream",
     "text": [
      "Small-flowered Cranesbill: 0096/0496 (ETA: 443.34s)...\r"
     ]
    },
    {
     "name": "stdout",
     "output_type": "stream",
     "text": [
      "Small-flowered Cranesbill: 0112/0496 (ETA: 433.71s)...\r"
     ]
    },
    {
     "name": "stdout",
     "output_type": "stream",
     "text": [
      "Small-flowered Cranesbill: 0128/0496 (ETA: 424.14s)...\r"
     ]
    },
    {
     "name": "stdout",
     "output_type": "stream",
     "text": [
      "Small-flowered Cranesbill: 0144/0496 (ETA: 415.63s)...\r"
     ]
    },
    {
     "name": "stdout",
     "output_type": "stream",
     "text": [
      "Small-flowered Cranesbill: 0160/0496 (ETA: 406.42s)...\r"
     ]
    },
    {
     "name": "stdout",
     "output_type": "stream",
     "text": [
      "Small-flowered Cranesbill: 0176/0496 (ETA: 396.41s)...\r"
     ]
    },
    {
     "name": "stdout",
     "output_type": "stream",
     "text": [
      "Small-flowered Cranesbill: 0192/0496 (ETA: 387.56s)...\r"
     ]
    },
    {
     "name": "stdout",
     "output_type": "stream",
     "text": [
      "Small-flowered Cranesbill: 0208/0496 (ETA: 378.45s)...\r"
     ]
    },
    {
     "name": "stdout",
     "output_type": "stream",
     "text": [
      "Small-flowered Cranesbill: 0224/0496 (ETA: 368.78s)...\r"
     ]
    },
    {
     "name": "stdout",
     "output_type": "stream",
     "text": [
      "Small-flowered Cranesbill: 0240/0496 (ETA: 360.34s)...\r"
     ]
    },
    {
     "name": "stdout",
     "output_type": "stream",
     "text": [
      "Small-flowered Cranesbill: 0256/0496 (ETA: 351.52s)...\r"
     ]
    },
    {
     "name": "stdout",
     "output_type": "stream",
     "text": [
      "Small-flowered Cranesbill: 0272/0496 (ETA: 342.34s)...\r"
     ]
    },
    {
     "name": "stdout",
     "output_type": "stream",
     "text": [
      "Small-flowered Cranesbill: 0288/0496 (ETA: 333.41s)...\r"
     ]
    },
    {
     "name": "stdout",
     "output_type": "stream",
     "text": [
      "Small-flowered Cranesbill: 0304/0496 (ETA: 324.39s)...\r"
     ]
    },
    {
     "name": "stdout",
     "output_type": "stream",
     "text": [
      "Small-flowered Cranesbill: 0320/0496 (ETA: 315.50s)...\r"
     ]
    },
    {
     "name": "stdout",
     "output_type": "stream",
     "text": [
      "Small-flowered Cranesbill: 0336/0496 (ETA: 306.43s)...\r"
     ]
    },
    {
     "name": "stdout",
     "output_type": "stream",
     "text": [
      "Small-flowered Cranesbill: 0352/0496 (ETA: 297.69s)...\r"
     ]
    },
    {
     "name": "stdout",
     "output_type": "stream",
     "text": [
      "Small-flowered Cranesbill: 0368/0496 (ETA: 288.75s)...\r"
     ]
    },
    {
     "name": "stdout",
     "output_type": "stream",
     "text": [
      "Small-flowered Cranesbill: 0384/0496 (ETA: 280.14s)...\r"
     ]
    },
    {
     "name": "stdout",
     "output_type": "stream",
     "text": [
      "Small-flowered Cranesbill: 0400/0496 (ETA: 270.86s)...\r"
     ]
    },
    {
     "name": "stdout",
     "output_type": "stream",
     "text": [
      "Small-flowered Cranesbill: 0416/0496 (ETA: 261.64s)...\r"
     ]
    },
    {
     "name": "stdout",
     "output_type": "stream",
     "text": [
      "Small-flowered Cranesbill: 0432/0496 (ETA: 252.72s)...\r"
     ]
    },
    {
     "name": "stdout",
     "output_type": "stream",
     "text": [
      "Small-flowered Cranesbill: 0448/0496 (ETA: 243.77s)...\r"
     ]
    },
    {
     "name": "stdout",
     "output_type": "stream",
     "text": [
      "Small-flowered Cranesbill: 0464/0496 (ETA: 234.84s)...\r"
     ]
    },
    {
     "name": "stdout",
     "output_type": "stream",
     "text": [
      "Small-flowered Cranesbill: 0480/0496 (ETA: 226.43s)...\r"
     ]
    },
    {
     "name": "stdout",
     "output_type": "stream",
     "text": [
      "                                                  \rSmall-flowered Cranesbill: Done\nSugar beet: 0000/0385 (ETA: 217.39s)...\r"
     ]
    },
    {
     "name": "stdout",
     "output_type": "stream",
     "text": [
      "Sugar beet: 0016/0385 (ETA: 209.76s)...\r"
     ]
    },
    {
     "name": "stdout",
     "output_type": "stream",
     "text": [
      "Sugar beet: 0032/0385 (ETA: 202.34s)...\r"
     ]
    },
    {
     "name": "stdout",
     "output_type": "stream",
     "text": [
      "Sugar beet: 0048/0385 (ETA: 194.63s)...\r"
     ]
    },
    {
     "name": "stdout",
     "output_type": "stream",
     "text": [
      "Sugar beet: 0064/0385 (ETA: 186.65s)...\r"
     ]
    },
    {
     "name": "stdout",
     "output_type": "stream",
     "text": [
      "Sugar beet: 0080/0385 (ETA: 178.02s)...\r"
     ]
    },
    {
     "name": "stdout",
     "output_type": "stream",
     "text": [
      "Sugar beet: 0096/0385 (ETA: 168.96s)...\r"
     ]
    },
    {
     "name": "stdout",
     "output_type": "stream",
     "text": [
      "Sugar beet: 0112/0385 (ETA: 160.59s)...\r"
     ]
    },
    {
     "name": "stdout",
     "output_type": "stream",
     "text": [
      "Sugar beet: 0128/0385 (ETA: 150.80s)...\r"
     ]
    },
    {
     "name": "stdout",
     "output_type": "stream",
     "text": [
      "Sugar beet: 0144/0385 (ETA: 140.85s)...\r"
     ]
    },
    {
     "name": "stdout",
     "output_type": "stream",
     "text": [
      "Sugar beet: 0160/0385 (ETA: 131.86s)...\r"
     ]
    },
    {
     "name": "stdout",
     "output_type": "stream",
     "text": [
      "Sugar beet: 0176/0385 (ETA: 122.32s)...\r"
     ]
    },
    {
     "name": "stdout",
     "output_type": "stream",
     "text": [
      "Sugar beet: 0192/0385 (ETA: 112.63s)...\r"
     ]
    },
    {
     "name": "stdout",
     "output_type": "stream",
     "text": [
      "Sugar beet: 0208/0385 (ETA: 103.55s)...\r"
     ]
    },
    {
     "name": "stdout",
     "output_type": "stream",
     "text": [
      "Sugar beet: 0224/0385 (ETA: 94.39s)...\r"
     ]
    },
    {
     "name": "stdout",
     "output_type": "stream",
     "text": [
      "Sugar beet: 0240/0385 (ETA: 85.37s)...\r"
     ]
    },
    {
     "name": "stdout",
     "output_type": "stream",
     "text": [
      "Sugar beet: 0256/0385 (ETA: 76.03s)...\r"
     ]
    },
    {
     "name": "stdout",
     "output_type": "stream",
     "text": [
      "Sugar beet: 0272/0385 (ETA: 66.24s)...\r"
     ]
    },
    {
     "name": "stdout",
     "output_type": "stream",
     "text": [
      "Sugar beet: 0288/0385 (ETA: 56.41s)...\r"
     ]
    },
    {
     "name": "stdout",
     "output_type": "stream",
     "text": [
      "Sugar beet: 0304/0385 (ETA: 47.28s)...\r"
     ]
    },
    {
     "name": "stdout",
     "output_type": "stream",
     "text": [
      "Sugar beet: 0320/0385 (ETA: 37.74s)...\r"
     ]
    },
    {
     "name": "stdout",
     "output_type": "stream",
     "text": [
      "Sugar beet: 0336/0385 (ETA: 28.48s)...\r"
     ]
    },
    {
     "name": "stdout",
     "output_type": "stream",
     "text": [
      "Sugar beet: 0352/0385 (ETA: 19.17s)...\r"
     ]
    },
    {
     "name": "stdout",
     "output_type": "stream",
     "text": [
      "Sugar beet: 0368/0385 (ETA: 9.99s)...\r"
     ]
    },
    {
     "name": "stdout",
     "output_type": "stream",
     "text": [
      "Sugar beet: 0384/0385 (ETA: 0.59s)...\r"
     ]
    },
    {
     "name": "stdout",
     "output_type": "stream",
     "text": [
      "                                                  \rSugar beet: Done\nDone (2735.3859899044037)\n"
     ]
    }
   ],
   "source": [
    "from collections import deque\n",
    "from time import time\n",
    "\n",
    "t0 = time()\n",
    "ts = deque(maxlen=5)\n",
    "idxx = 0\n",
    "\n",
    "for path, label in zip(labels_path, labels):\n",
    "    files = os.listdir(path)\n",
    "    files = [f for f in files if \".DS_Store\" not in f]\n",
    "    n_files = len(files)\n",
    "    next_idxx = idxx + n_files\n",
    "    labels_data[idxx:next_idxx] = label2idx[label]\n",
    "    idx = 0\n",
    "    for i in range(math.ceil(n_files / BATCH_SIZE)):\n",
    "        tt0 = time()\n",
    "        eta = np.mean(ts) * (n_images - idxx - idx) if len(ts) != 0 else 999\n",
    "        print('%s: %04d/%04d (ETA: %.2fs)...' %\n",
    "              (label, idx, n_files, eta), end='\\r')\n",
    "        next_idx = min(n_files, idx + BATCH_SIZE)\n",
    "        batch_n = next_idx - idx\n",
    "        batch_x = np.ndarray((batch_n, *SHAPE), dtype=np.float32)\n",
    "        for j in range(batch_n):\n",
    "            img = PIL.Image.open(os.path.join(path, files[idx + j]))\n",
    "            img = img.resize(SHAPE[:2][::-1])\n",
    "            img = img.convert(\"RGB\")\n",
    "            img = np.asarray(img, dtype=np.float32)\n",
    "            batch_x[j] = img\n",
    "    \n",
    "        batch_x = preprocess_input(batch_x)\n",
    "        img_data[idxx + idx:idxx + idx + batch_n] = model.predict(batch_x)\n",
    "        idx = next_idx\n",
    "        ts.append((time() - tt0) / batch_n)\n",
    "    \n",
    "    idxx = next_idxx\n",
    "    print(' '*50, end='\\r')\n",
    "    print('{}: Done'.format(label))\n",
    "    \n",
    "print('Done ({})'.format((time() - t0)))"
   ]
  },
  {
   "cell_type": "code",
   "execution_count": 5,
   "metadata": {},
   "outputs": [],
   "source": [
    "f.close()"
   ]
  },
  {
   "cell_type": "code",
   "execution_count": null,
   "metadata": {},
   "outputs": [],
   "source": [
    ""
   ]
  }
 ],
 "metadata": {
  "kernelspec": {
   "display_name": "Python 2",
   "language": "python",
   "name": "python2"
  },
  "language_info": {
   "codemirror_mode": {
    "name": "ipython",
    "version": 2.0
   },
   "file_extension": ".py",
   "mimetype": "text/x-python",
   "name": "python",
   "nbconvert_exporter": "python",
   "pygments_lexer": "ipython2",
   "version": "2.7.6"
  }
 },
 "nbformat": 4,
 "nbformat_minor": 0
}