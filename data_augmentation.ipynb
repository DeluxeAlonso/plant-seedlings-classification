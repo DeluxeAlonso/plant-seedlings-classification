{
 "cells": [
  {
   "cell_type": "code",
   "execution_count": 1,
   "metadata": {},
   "outputs": [
    {
     "name": "stderr",
     "output_type": "stream",
     "text": [
      "Using TensorFlow backend.\n"
     ]
    }
   ],
   "source": [
    "import os\n",
    "from keras.preprocessing.image import ImageDataGenerator, array_to_img, img_to_array, load_img\n",
    "\n",
    "%matplotlib inline"
   ]
  },
  {
   "cell_type": "code",
   "execution_count": 2,
   "metadata": {
    "collapsed": true
   },
   "outputs": [],
   "source": [
    "AUGMENTATED_DATA_FOLDER = 'data/augmentated'"
   ]
  },
  {
   "cell_type": "code",
   "execution_count": 3,
   "metadata": {
    "collapsed": true
   },
   "outputs": [],
   "source": [
    "datagen = ImageDataGenerator(\n",
    "        horizontal_flip=True,\n",
    "        vertical_flip=True,\n",
    "        rotation_range=90)"
   ]
  },
  {
   "cell_type": "code",
   "execution_count": 4,
   "metadata": {},
   "outputs": [
    {
     "name": "stdout",
     "output_type": "stream",
     "text": [
      "['data/augmentated/Cleavers', 'data/augmentated/Sugar beet', 'data/augmentated/Common Chickweed', 'data/augmentated/Loose Silky-bent', 'data/augmentated/Scentless Mayweed', 'data/augmentated/Shepherds Purse', 'data/augmentated/Fat Hen', 'data/augmentated/Common wheat', 'data/augmentated/Black-grass', 'data/augmentated/Small-flowered Cranesbill', 'data/augmentated/Charlock', 'data/augmentated/Maize']\n",
      "Cleavers Done\n",
      "Sugar beet Done\n",
      "Common Chickweed Done\n",
      "Loose Silky-bent Done\n",
      "Scentless Mayweed Done\n",
      "Shepherds Purse Done\n",
      "Fat Hen Done\n",
      "Common wheat Done\n",
      "Black-grass Done\n",
      "Small-flowered Cranesbill Done\n",
      "Charlock Done\n",
      "Maize Done\n"
     ]
    }
   ],
   "source": [
    "labels = os.listdir(AUGMENTATED_DATA_FOLDER)\n",
    "labels = [l for l in labels if \".DS_Store\" not in l]\n",
    "labels_path = [os.path.join(AUGMENTATED_DATA_FOLDER, l) for l in labels]\n",
    "print(labels_path)\n",
    "\n",
    "for path, label in zip(labels_path, labels):\n",
    "    files = os.listdir(path)\n",
    "    files = [f for f in files if \".DS_Store\" not in f]\n",
    "    n_files = len(files)\n",
    "    destination_folder = AUGMENTATED_DATA_FOLDER + '/' + label\n",
    "    for filename in files:\n",
    "        img = load_img('data/augmentated/' + label + '/' + filename)\n",
    "        x = img_to_array(img)\n",
    "        x = x.reshape((1,) + x.shape)\n",
    "        i = 0\n",
    "        for batch in datagen.flow(x, batch_size=1,\n",
    "                                  save_to_dir=destination_folder, save_prefix=filename, save_format='png'):\n",
    "            i += 1\n",
    "            if i > 0:\n",
    "                break\n",
    "    print(\"{} Done\".format(label))"
   ]
  },
  {
   "cell_type": "code",
   "execution_count": null,
   "metadata": {
    "collapsed": true
   },
   "outputs": [],
   "source": []
  }
 ],
 "metadata": {
  "kernelspec": {
   "display_name": "Python 3",
   "language": "python",
   "name": "python3"
  },
  "language_info": {
   "codemirror_mode": {
    "name": "ipython",
    "version": 3
   },
   "file_extension": ".py",
   "mimetype": "text/x-python",
   "name": "python",
   "nbconvert_exporter": "python",
   "pygments_lexer": "ipython3",
   "version": "3.5.0"
  }
 },
 "nbformat": 4,
 "nbformat_minor": 2
}
