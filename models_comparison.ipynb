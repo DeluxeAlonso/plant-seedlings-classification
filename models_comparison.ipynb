{
 "cells": [
  {
   "cell_type": "code",
   "execution_count": 1,
   "metadata": {},
   "outputs": [
    {
     "name": "stderr",
     "output_type": "stream",
     "text": [
      "Using TensorFlow backend.\n"
     ]
    }
   ],
   "source": [
    "import h5py\n",
    "import numpy as np\n",
    "import matplotlib.pyplot as plt\n",
    "from keras.models import Sequential\n",
    "from keras.layers import BatchNormalization, Conv2D, Activation, Dropout, Flatten, Dense\n",
    "from keras.layers import GlobalMaxPooling2D, MaxPooling2D\n",
    "from keras.optimizers import Adam\n",
    "from keras.callbacks import ModelCheckpoint\n",
    "from keras import backend as K\n",
    "from sklearn.externals import joblib\n",
    "\n",
    "%matplotlib inline"
   ]
  },
  {
   "cell_type": "code",
   "execution_count": 2,
   "metadata": {
    "collapsed": true
   },
   "outputs": [],
   "source": [
    "DATA_FILE = 'data/train_data.h5'\n",
    "METADATA = 'metadata.npy'\n",
    "\n",
    "f = h5py.File(DATA_FILE, 'r')\n",
    "data_x = f['x']\n",
    "data_y = f['y']\n",
    "metadata = np.load(METADATA).item()"
   ]
  },
  {
   "cell_type": "code",
   "execution_count": 3,
   "metadata": {
    "collapsed": true
   },
   "outputs": [],
   "source": [
    "from sklearn.model_selection import train_test_split\n",
    "\n",
    "data_x = np.asarray(data_x)\n",
    "data_y = np.asarray(data_y)\n",
    "X_train, X_val, y_train, y_val = train_test_split(data_x, data_y, test_size=0.15, random_state=42)"
   ]
  },
  {
   "cell_type": "code",
   "execution_count": 4,
   "metadata": {
    "collapsed": true
   },
   "outputs": [],
   "source": [
    "import pandas as pd\n",
    "\n",
    "results = pd.DataFrame(columns=['Model', 'Accuracy', 'Precision', 'Recall', 'F1'])"
   ]
  },
  {
   "cell_type": "code",
   "execution_count": 5,
   "metadata": {
    "collapsed": true
   },
   "outputs": [],
   "source": [
    "def recall(y_true, y_pred):\n",
    "    true_positives = K.sum(K.round(K.clip(y_true * y_pred, 0, 1)))\n",
    "    possible_positives = K.sum(K.round(K.clip(y_true, 0, 1)))\n",
    "    recall = true_positives / (possible_positives + K.epsilon())\n",
    "    return recall\n",
    "\n",
    "def precision(y_true, y_pred):\n",
    "    true_positives = K.sum(K.round(K.clip(y_true * y_pred, 0, 1)))\n",
    "    predicted_positives = K.sum(K.round(K.clip(y_pred, 0, 1)))\n",
    "    precision = true_positives / (predicted_positives + K.epsilon())\n",
    "    return precision\n",
    "\n",
    "def f1(y_true, y_pred):\n",
    "    \n",
    "    def recall(y_true, y_pred):\n",
    "        true_positives = K.sum(K.round(K.clip(y_true * y_pred, 0, 1)))\n",
    "        possible_positives = K.sum(K.round(K.clip(y_true, 0, 1)))\n",
    "        recall = true_positives / (possible_positives + K.epsilon())\n",
    "        return recall\n",
    "    \n",
    "    def precision(y_true, y_pred):\n",
    "        true_positives = K.sum(K.round(K.clip(y_true * y_pred, 0, 1)))\n",
    "        predicted_positives = K.sum(K.round(K.clip(y_pred, 0, 1)))\n",
    "        precision = true_positives / (predicted_positives + K.epsilon())\n",
    "        return precision\n",
    "    \n",
    "    recall = recall(y_true, y_pred)\n",
    "    precision = precision(y_true, y_pred)\n",
    "    return 2*((precision*recall)/(precision+recall))"
   ]
  },
  {
   "cell_type": "markdown",
   "metadata": {},
   "source": [
    "# CNN"
   ]
  },
  {
   "cell_type": "code",
   "execution_count": 6,
   "metadata": {},
   "outputs": [
    {
     "name": "stdout",
     "output_type": "stream",
     "text": [
      "_________________________________________________________________\n",
      "Layer (type)                 Output Shape              Param #   \n",
      "=================================================================\n",
      "batch_normalization_1 (Batch (None, 1, 1, 2048)        8192      \n",
      "_________________________________________________________________\n",
      "conv2d_1 (Conv2D)            (None, 1, 1, 128)         2359424   \n",
      "_________________________________________________________________\n",
      "batch_normalization_2 (Batch (None, 1, 1, 128)         512       \n",
      "_________________________________________________________________\n",
      "activation_1 (Activation)    (None, 1, 1, 128)         0         \n",
      "_________________________________________________________________\n",
      "dropout_1 (Dropout)          (None, 1, 1, 128)         0         \n",
      "_________________________________________________________________\n",
      "conv2d_2 (Conv2D)            (None, 1, 1, 128)         147584    \n",
      "_________________________________________________________________\n",
      "batch_normalization_3 (Batch (None, 1, 1, 128)         512       \n",
      "_________________________________________________________________\n",
      "activation_2 (Activation)    (None, 1, 1, 128)         0         \n",
      "_________________________________________________________________\n",
      "dropout_2 (Dropout)          (None, 1, 1, 128)         0         \n",
      "_________________________________________________________________\n",
      "conv2d_3 (Conv2D)            (None, 1, 1, 128)         147584    \n",
      "_________________________________________________________________\n",
      "batch_normalization_4 (Batch (None, 1, 1, 128)         512       \n",
      "_________________________________________________________________\n",
      "activation_3 (Activation)    (None, 1, 1, 128)         0         \n",
      "_________________________________________________________________\n",
      "conv2d_4 (Conv2D)            (None, 1, 1, 12)          13836     \n",
      "_________________________________________________________________\n",
      "global_max_pooling2d_1 (Glob (None, 12)                0         \n",
      "_________________________________________________________________\n",
      "activation_4 (Activation)    (None, 12)                0         \n",
      "=================================================================\n",
      "Total params: 2,678,156\n",
      "Trainable params: 2,673,292\n",
      "Non-trainable params: 4,864\n",
      "_________________________________________________________________\n"
     ]
    }
   ],
   "source": [
    "lr = 1e-3\n",
    "n_conv_layers = 3\n",
    "n_kernels = [128] * n_conv_layers\n",
    "mp_sizes = [(2,2) for _ in range(n_conv_layers)]\n",
    "dropout_values = [0.25] * n_conv_layers\n",
    "\n",
    "model = Sequential()\n",
    "model.add(BatchNormalization(axis=3, input_shape=data_x.shape[1:]))\n",
    "for i in range(n_conv_layers):\n",
    "    model.add(Conv2D(n_kernels[i], (3, 3), padding=\"same\", kernel_initializer=\"he_uniform\"))\n",
    "    model.add(BatchNormalization(axis=3))\n",
    "    model.add(Activation('relu'))\n",
    "    if i < n_conv_layers - 1:\n",
    "        model.add(Dropout(dropout_values[i]))\n",
    "\n",
    "model.add(Conv2D(12, (3, 3), padding=\"same\"))\n",
    "model.add(GlobalMaxPooling2D())\n",
    "model.add(Activation('softmax'))\n",
    "model.compile(Adam(lr), loss='categorical_crossentropy', metrics=['accuracy', recall, precision, f1])\n",
    "model.summary()"
   ]
  },
  {
   "cell_type": "code",
   "execution_count": 7,
   "metadata": {
    "collapsed": true
   },
   "outputs": [
    {
     "name": "stdout",
     "output_type": "stream",
     "text": [
      "Train on 4037 samples, validate on 713 samples\n",
      "Epoch 1/15\n",
      "4037/4037 [==============================] - 26s - loss: 1.4679 - acc: 0.5856 - recall: 0.2358 - precision: 0.7533 - f1: nan - val_loss: 1.7359 - val_acc: 0.7279 - val_recall: 0.0000e+00 - val_precision: 0.0000e+00 - val_f1: nan\n",
      "Epoch 2/15\n",
      "4037/4037 [==============================] - 21s - loss: 0.6207 - acc: 0.8241 - recall: 0.6879 - precision: 0.9138 - f1: 0.7826 - val_loss: 0.8813 - val_acc: 0.8569 - val_recall: 0.4418 - val_precision: 0.9801 - val_f1: 0.6060\n",
      "Epoch 3/15\n",
      "4037/4037 [==============================] - 27s - loss: 0.4056 - acc: 0.8771 - recall: 0.8177 - precision: 0.9164 - f1: 0.8635 - val_loss: 0.4745 - val_acc: 0.8640 - val_recall: 0.7784 - val_precision: 0.9389 - val_f1: 0.8509\n",
      "Epoch 4/15\n",
      "4037/4037 [==============================] - 24s - loss: 0.3235 - acc: 0.8994 - recall: 0.8553 - precision: 0.9295 - f1: 0.8904 - val_loss: 0.3371 - val_acc: 0.8934 - val_recall: 0.8541 - val_precision: 0.9216 - val_f1: 0.8864\n",
      "Epoch 5/15\n",
      "4037/4037 [==============================] - 20s - loss: 0.2385 - acc: 0.9215 - recall: 0.9019 - precision: 0.9427 - f1: 0.9217 - val_loss: 0.2739 - val_acc: 0.9144 - val_recall: 0.8948 - val_precision: 0.9232 - val_f1: 0.9088\n",
      "Epoch 6/15\n",
      "4037/4037 [==============================] - 21s - loss: 0.2384 - acc: 0.9215 - recall: 0.9036 - precision: 0.9383 - f1: 0.9204 - val_loss: 0.3018 - val_acc: 0.8906 - val_recall: 0.8738 - val_precision: 0.9097 - val_f1: 0.8913\n",
      "Epoch 7/15\n",
      "4037/4037 [==============================] - 20s - loss: 0.2017 - acc: 0.9339 - recall: 0.9190 - precision: 0.9466 - f1: 0.9324 - val_loss: 0.2842 - val_acc: 0.8990 - val_recall: 0.8878 - val_precision: 0.9070 - val_f1: 0.8972\n",
      "Epoch 8/15\n",
      "4037/4037 [==============================] - 22s - loss: 0.1905 - acc: 0.9316 - recall: 0.9188 - precision: 0.9473 - f1: 0.9327 - val_loss: 0.3461 - val_acc: 0.8822 - val_recall: 0.8682 - val_precision: 0.8934 - val_f1: 0.8805\n",
      "Epoch 9/15\n",
      "4037/4037 [==============================] - 23s - loss: 0.1876 - acc: 0.9349 - recall: 0.9227 - precision: 0.9461 - f1: 0.9341 - val_loss: 0.2959 - val_acc: 0.9116 - val_recall: 0.8892 - val_precision: 0.9246 - val_f1: 0.9065\n",
      "Epoch 10/15\n",
      "4037/4037 [==============================] - 21s - loss: 0.1312 - acc: 0.9539 - recall: 0.9465 - precision: 0.9605 - f1: 0.9534 - val_loss: 0.2879 - val_acc: 0.9144 - val_recall: 0.9060 - val_precision: 0.9228 - val_f1: 0.9143\n",
      "Epoch 11/15\n",
      "4037/4037 [==============================] - 22s - loss: 0.1485 - acc: 0.9544 - recall: 0.9470 - precision: 0.9617 - f1: 0.9542 - val_loss: 0.2535 - val_acc: 0.9102 - val_recall: 0.9060 - val_precision: 0.9230 - val_f1: 0.9144\n",
      "Epoch 12/15\n",
      "4037/4037 [==============================] - 27s - loss: 0.1225 - acc: 0.9611 - recall: 0.9544 - precision: 0.9666 - f1: 0.9604 - val_loss: 0.2722 - val_acc: 0.9060 - val_recall: 0.9032 - val_precision: 0.9160 - val_f1: 0.9096\n",
      "Epoch 13/15\n",
      "4037/4037 [==============================] - 20s - loss: 0.1012 - acc: 0.9626 - recall: 0.9571 - precision: 0.9702 - f1: 0.9636 - val_loss: 0.2880 - val_acc: 0.9102 - val_recall: 0.9046 - val_precision: 0.9201 - val_f1: 0.9123\n",
      "Epoch 14/15\n",
      "4037/4037 [==============================] - 19s - loss: 0.1096 - acc: 0.9619 - recall: 0.9554 - precision: 0.9689 - f1: 0.9620 - val_loss: 0.2859 - val_acc: 0.9102 - val_recall: 0.9060 - val_precision: 0.9203 - val_f1: 0.9130\n",
      "Epoch 15/15\n",
      "4037/4037 [==============================] - 21s - loss: 0.1220 - acc: 0.9591 - recall: 0.9544 - precision: 0.9623 - f1: 0.9583 - val_loss: 0.3300 - val_acc: 0.9060 - val_recall: 0.9032 - val_precision: 0.9136 - val_f1: 0.9084\n"
     ]
    },
    {
     "data": {
      "text/plain": [
       "<keras.callbacks.History at 0x11cb30eb8>"
      ]
     },
     "execution_count": 7,
     "metadata": {},
     "output_type": "execute_result"
    }
   ],
   "source": [
    "model_filepath = 'models/CNN_Model.h5'\n",
    "callbacks = [ModelCheckpoint(model_filepath, monitor='f1', verbose=0, save_best_only=True, mode=\"max\")]\n",
    "model.fit(X_train, y_train, batch_size=64, epochs=15,\n",
    "          validation_data=(X_val, y_val), callbacks=callbacks)"
   ]
  },
  {
   "cell_type": "code",
   "execution_count": 8,
   "metadata": {},
   "outputs": [
    {
     "data": {
      "image/png": "[encoded data removed]",
      "text/plain": [
       "<matplotlib.figure.Figure at 0x11dac2860>"
      ]
     },
     "metadata": {},
     "output_type": "display_data"
    }
   ],
   "source": [
    "def plot_model(model):\n",
    "    plots = [i for i in model.model.history.history.keys() if i.find('val_') == -1]\n",
    "    plt.figure(figsize=(15,25))\n",
    "\n",
    "    for i, p in enumerate(plots):\n",
    "        plt.subplot(len(plots), 2, i + 1)\n",
    "        plt.title(p)\n",
    "        plt.plot(model.model.history.history[p], label=p)\n",
    "        plt.plot(model.model.history.history['val_'+p], label='val_'+p)\n",
    "        plt.legend()\n",
    "\n",
    "    plt.show()\n",
    "    \n",
    "plot_model(model)"
   ]
  },
  {
   "cell_type": "code",
   "execution_count": 6,
   "metadata": {},
   "outputs": [
    {
     "name": "stdout",
     "output_type": "stream",
     "text": [
      "576/713 [=======================>......] - ETA: 0s"
     ]
    },
    {
     "data": {
      "text/html": [
       "<div>\n",
       "<style>\n",
       "    .dataframe thead tr:only-child th {\n",
       "        text-align: right;\n",
       "    }\n",
       "\n",
       "    .dataframe thead th {\n",
       "        text-align: left;\n",
       "    }\n",
       "\n",
       "    .dataframe tbody tr th {\n",
       "        vertical-align: top;\n",
       "    }\n",
       "</style>\n",
       "<table border=\"1\" class=\"dataframe\">\n",
       "  <thead>\n",
       "    <tr style=\"text-align: right;\">\n",
       "      <th></th>\n",
       "      <th>Model</th>\n",
       "      <th>Accuracy</th>\n",
       "      <th>Precision</th>\n",
       "      <th>Recall</th>\n",
       "      <th>F1</th>\n",
       "    </tr>\n",
       "  </thead>\n",
       "  <tbody>\n",
       "    <tr>\n",
       "      <th>1</th>\n",
       "      <td>CNN</td>\n",
       "      <td>0.910238</td>\n",
       "      <td>0.920129</td>\n",
       "      <td>0.904628</td>\n",
       "      <td>0.912277</td>\n",
       "    </tr>\n",
       "  </tbody>\n",
       "</table>\n",
       "</div>"
      ],
      "text/plain": [
       "  Model  Accuracy  Precision    Recall        F1\n",
       "1   CNN  0.910238   0.920129  0.904628  0.912277"
      ]
     },
     "execution_count": 6,
     "metadata": {},
     "output_type": "execute_result"
    }
   ],
   "source": [
    "from keras.models import load_model\n",
    "\n",
    "best_model = load_model('models/CNN_Model.h5', custom_objects={'recall': recall, 'precision': precision, 'f1': f1})\n",
    "\n",
    "score, acc, recall, precision, f1 = best_model.evaluate(X_val, y_val, batch_size=64)\n",
    "\n",
    "idx = len(results) + 1\n",
    "results.loc[idx] = ['CNN', acc, precision, recall, f1]\n",
    "\n",
    "results"
   ]
  },
  {
   "cell_type": "markdown",
   "metadata": {},
   "source": [
    "# Random Forest"
   ]
  },
  {
   "cell_type": "code",
   "execution_count": 7,
   "metadata": {},
   "outputs": [
    {
     "data": {
      "text/plain": [
       "RandomForestClassifier(bootstrap=True, class_weight=None, criterion='gini',\n",
       "            max_depth=50, max_features='auto', max_leaf_nodes=None,\n",
       "            min_impurity_split=1e-07, min_samples_leaf=1,\n",
       "            min_samples_split=2, min_weight_fraction_leaf=0.0,\n",
       "            n_estimators=300, n_jobs=1, oob_score=False, random_state=None,\n",
       "            verbose=0, warm_start=False)"
      ]
     },
     "execution_count": 7,
     "metadata": {},
     "output_type": "execute_result"
    }
   ],
   "source": [
    "from sklearn.ensemble import RandomForestClassifier\n",
    "\n",
    "n_estimators = 300\n",
    "max_depth = 50\n",
    "\n",
    "reshaped_x_train = X_train.reshape(X_train.shape[0], -1)\n",
    "\n",
    "rf_model = RandomForestClassifier(n_estimators=n_estimators, max_depth=max_depth)\n",
    "rf_model.fit(reshaped_x_train, y_train.argmax(1))"
   ]
  },
  {
   "cell_type": "code",
   "execution_count": 8,
   "metadata": {},
   "outputs": [
    {
     "data": {
      "text/plain": [
       "['models/RF_Model.h5']"
      ]
     },
     "execution_count": 8,
     "metadata": {},
     "output_type": "execute_result"
    }
   ],
   "source": [
    "joblib.dump(rf_model, \"models/RF_Model.h5\")"
   ]
  },
  {
   "cell_type": "code",
   "execution_count": 7,
   "metadata": {},
   "outputs": [
    {
     "data": {
      "text/html": [
       "<div>\n",
       "<style>\n",
       "    .dataframe thead tr:only-child th {\n",
       "        text-align: right;\n",
       "    }\n",
       "\n",
       "    .dataframe thead th {\n",
       "        text-align: left;\n",
       "    }\n",
       "\n",
       "    .dataframe tbody tr th {\n",
       "        vertical-align: top;\n",
       "    }\n",
       "</style>\n",
       "<table border=\"1\" class=\"dataframe\">\n",
       "  <thead>\n",
       "    <tr style=\"text-align: right;\">\n",
       "      <th></th>\n",
       "      <th>Model</th>\n",
       "      <th>Accuracy</th>\n",
       "      <th>Precision</th>\n",
       "      <th>Recall</th>\n",
       "      <th>F1</th>\n",
       "    </tr>\n",
       "  </thead>\n",
       "  <tbody>\n",
       "    <tr>\n",
       "      <th>1</th>\n",
       "      <td>CNN</td>\n",
       "      <td>0.910238</td>\n",
       "      <td>0.920129</td>\n",
       "      <td>0.904628</td>\n",
       "      <td>0.912277</td>\n",
       "    </tr>\n",
       "    <tr>\n",
       "      <th>2</th>\n",
       "      <td>Random Forests</td>\n",
       "      <td>0.862553</td>\n",
       "      <td>0.883581</td>\n",
       "      <td>0.826914</td>\n",
       "      <td>0.838901</td>\n",
       "    </tr>\n",
       "  </tbody>\n",
       "</table>\n",
       "</div>"
      ],
      "text/plain": [
       "            Model  Accuracy  Precision    Recall        F1\n",
       "1             CNN  0.910238   0.920129  0.904628  0.912277\n",
       "2  Random Forests  0.862553   0.883581  0.826914  0.838901"
      ]
     },
     "execution_count": 7,
     "metadata": {},
     "output_type": "execute_result"
    }
   ],
   "source": [
    "from sklearn import metrics\n",
    "\n",
    "reshaped_x_val = X_val.reshape(X_val.shape[0], -1)\n",
    "\n",
    "rf_model = joblib.load(\"models/RF_Model.h5\")\n",
    "rf_preds = rf_model.predict(reshaped_x_val)\n",
    "\n",
    "idx = len(results) + 1\n",
    "results.loc[idx] = ['Random Forests',\n",
    "                       metrics.accuracy_score(y_val.argmax(1), rf_preds),\n",
    "                       metrics.precision_score(y_val.argmax(1), rf_preds, average=\"macro\"),\n",
    "                       metrics.recall_score(y_val.argmax(1), rf_preds, average=\"macro\"),\n",
    "                       metrics.f1_score(y_val.argmax(1), rf_preds, average=\"macro\") ]\n",
    "\n",
    "results"
   ]
  },
  {
   "cell_type": "markdown",
   "metadata": {},
   "source": [
    "# Gradient Boosting"
   ]
  },
  {
   "cell_type": "code",
   "execution_count": 36,
   "metadata": {},
   "outputs": [
    {
     "data": {
      "text/plain": [
       "XGBClassifier(base_score=0.5, colsample_bylevel=1, colsample_bytree=1,\n",
       "       gamma=0, learning_rate=0.1, max_delta_step=0, max_depth=50,\n",
       "       min_child_weight=1, missing=None, n_estimators=250, nthread=-1,\n",
       "       objective='multi:softprob', reg_alpha=0, reg_lambda=1,\n",
       "       scale_pos_weight=1, seed=0, silent=False, subsample=1)"
      ]
     },
     "execution_count": 36,
     "metadata": {},
     "output_type": "execute_result"
    }
   ],
   "source": [
    "from xgboost import XGBClassifier\n",
    "\n",
    "n_estimators = 250\n",
    "max_depth = 50\n",
    "learning_rate = 0.1\n",
    "\n",
    "gb_model = XGBClassifier(n_estimators=n_estimators, max_depth=max_depth, learning_rate=learning_rate, silent=False)\n",
    "gb_model.fit(reshaped_x_train, y_train.argmax(1))"
   ]
  },
  {
   "cell_type": "code",
   "execution_count": 37,
   "metadata": {},
   "outputs": [
    {
     "data": {
      "text/plain": [
       "['models/GB_Model.h5']"
      ]
     },
     "execution_count": 37,
     "metadata": {},
     "output_type": "execute_result"
    }
   ],
   "source": [
    "joblib.dump(gb_model, \"models/GB_Model.h5\")"
   ]
  },
  {
   "cell_type": "code",
   "execution_count": 8,
   "metadata": {},
   "outputs": [
    {
     "name": "stderr",
     "output_type": "stream",
     "text": [
      "/Library/Frameworks/Python.framework/Versions/3.5/lib/python3.5/site-packages/sklearn/cross_validation.py:44: DeprecationWarning: This module was deprecated in version 0.18 in favor of the model_selection module into which all the refactored classes and functions are moved. Also note that the interface of the new CV iterators are different from that of this module. This module will be removed in 0.20.\n",
      "  \"This module will be removed in 0.20.\", DeprecationWarning)\n"
     ]
    },
    {
     "data": {
      "text/html": [
       "<div>\n",
       "<style>\n",
       "    .dataframe thead tr:only-child th {\n",
       "        text-align: right;\n",
       "    }\n",
       "\n",
       "    .dataframe thead th {\n",
       "        text-align: left;\n",
       "    }\n",
       "\n",
       "    .dataframe tbody tr th {\n",
       "        vertical-align: top;\n",
       "    }\n",
       "</style>\n",
       "<table border=\"1\" class=\"dataframe\">\n",
       "  <thead>\n",
       "    <tr style=\"text-align: right;\">\n",
       "      <th></th>\n",
       "      <th>Model</th>\n",
       "      <th>Accuracy</th>\n",
       "      <th>Precision</th>\n",
       "      <th>Recall</th>\n",
       "      <th>F1</th>\n",
       "    </tr>\n",
       "  </thead>\n",
       "  <tbody>\n",
       "    <tr>\n",
       "      <th>1</th>\n",
       "      <td>CNN</td>\n",
       "      <td>0.910238</td>\n",
       "      <td>0.920129</td>\n",
       "      <td>0.904628</td>\n",
       "      <td>0.912277</td>\n",
       "    </tr>\n",
       "    <tr>\n",
       "      <th>2</th>\n",
       "      <td>Random Forests</td>\n",
       "      <td>0.862553</td>\n",
       "      <td>0.883581</td>\n",
       "      <td>0.826914</td>\n",
       "      <td>0.838901</td>\n",
       "    </tr>\n",
       "    <tr>\n",
       "      <th>3</th>\n",
       "      <td>Gradient Boosting</td>\n",
       "      <td>0.884993</td>\n",
       "      <td>0.880029</td>\n",
       "      <td>0.867321</td>\n",
       "      <td>0.871944</td>\n",
       "    </tr>\n",
       "  </tbody>\n",
       "</table>\n",
       "</div>"
      ],
      "text/plain": [
       "               Model  Accuracy  Precision    Recall        F1\n",
       "1                CNN  0.910238   0.920129  0.904628  0.912277\n",
       "2     Random Forests  0.862553   0.883581  0.826914  0.838901\n",
       "3  Gradient Boosting  0.884993   0.880029  0.867321  0.871944"
      ]
     },
     "execution_count": 8,
     "metadata": {},
     "output_type": "execute_result"
    }
   ],
   "source": [
    "gb_model = joblib.load(\"models/GB_Model.h5\")\n",
    "gb_preds = gb_model.predict(reshaped_x_val)\n",
    "\n",
    "idx = len(results) + 1\n",
    "results.loc[idx] = ['Gradient Boosting',\n",
    "                       metrics.accuracy_score(y_val.argmax(1), gb_preds),\n",
    "                       metrics.precision_score(y_val.argmax(1), gb_preds, average=\"macro\"),\n",
    "                       metrics.recall_score(y_val.argmax(1), gb_preds, average=\"macro\"),\n",
    "                       metrics.f1_score(y_val.argmax(1), gb_preds, average=\"macro\") ]\n",
    "\n",
    "results"
   ]
  },
  {
   "cell_type": "code",
   "execution_count": null,
   "metadata": {
    "collapsed": true
   },
   "outputs": [],
   "source": []
  }
 ],
 "metadata": {
  "kernelspec": {
   "display_name": "Python 3",
   "language": "python",
   "name": "python3"
  },
  "language_info": {
   "codemirror_mode": {
    "name": "ipython",
    "version": 3
   },
   "file_extension": ".py",
   "mimetype": "text/x-python",
   "name": "python",
   "nbconvert_exporter": "python",
   "pygments_lexer": "ipython3",
   "version": "3.5.0"
  }
 },
 "nbformat": 4,
 "nbformat_minor": 1
}
