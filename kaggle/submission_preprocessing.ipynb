{
 "cells": [
  {
   "cell_type": "code",
   "execution_count": 1,
   "metadata": {},
   "outputs": [
    {
     "name": "stderr",
     "output_type": "stream",
     "text": [
      "Using TensorFlow backend.\n"
     ]
    }
   ],
   "source": [
    "import os\n",
    "import PIL\n",
    "from PIL import Image\n",
    "from keras.applications.resnet50 import preprocess_input, ResNet50\n",
    "from keras.models import load_model"
   ]
  },
  {
   "cell_type": "code",
   "execution_count": 2,
   "metadata": {},
   "outputs": [],
   "source": [
    "DATA_FOLDER = '../data/test/'\n",
    "PP_TEST_DATA = '../data/test_data.h5'\n",
    "SHAPE = (250, 250, 3)\n",
    "\n",
    "files = os.listdir(DATA_FOLDER)\n",
    "n_files = len(files)"
   ]
  },
  {
   "cell_type": "code",
   "execution_count": 3,
   "metadata": {},
   "outputs": [
    {
     "name": "stdout",
     "output_type": "stream",
     "text": [
      "0793/0794\r"
     ]
    }
   ],
   "source": [
    "import numpy as np\n",
    "\n",
    "batch_x = np.ndarray((n_files, *SHAPE), dtype=np.float32)\n",
    "\n",
    "for idx, file in enumerate(files):\n",
    "    print('%04d/%04d' % (idx, n_files), end='\\r')\n",
    "    path = os.path.join(DATA_FOLDER, file)\n",
    "    img = Image.open(path)\n",
    "    img = img.resize(SHAPE[:2][::-1])\n",
    "    img = img.convert(\"RGB\")\n",
    "    img = np.asarray(img, dtype=np.float32)\n",
    "    batch_x[idx] = img"
   ]
  },
  {
   "cell_type": "code",
   "execution_count": 4,
   "metadata": {
    "collapsed": true
   },
   "outputs": [],
   "source": [
    "batch_x = preprocess_input(batch_x)"
   ]
  },
  {
   "cell_type": "code",
   "execution_count": 5,
   "metadata": {},
   "outputs": [
    {
     "name": "stdout",
     "output_type": "stream",
     "text": [
      "794/794 [==============================] - 494s   \n"
     ]
    }
   ],
   "source": [
    "base_model = ResNet50(include_top=False, input_shape=SHAPE)\n",
    "base_model.layers.pop()\n",
    "\n",
    "preds = base_model.predict(batch_x, batch_size=16, verbose=1)"
   ]
  },
  {
   "cell_type": "code",
   "execution_count": 6,
   "metadata": {
    "collapsed": true
   },
   "outputs": [],
   "source": [
    "np.save(PP_TEST_DATA, preds)"
   ]
  },
  {
   "cell_type": "code",
   "execution_count": 8,
   "metadata": {},
   "outputs": [
    {
     "data": {
      "text/plain": [
       "(794, 1, 1, 2048)"
      ]
     },
     "execution_count": 8,
     "metadata": {},
     "output_type": "execute_result"
    }
   ],
   "source": [
    "loaded_preds = np.load(PP_TEST_DATA + '.npy')\n",
    "loaded_preds.shape"
   ]
  },
  {
   "cell_type": "code",
   "execution_count": null,
   "metadata": {
    "collapsed": true
   },
   "outputs": [],
   "source": []
  }
 ],
 "metadata": {
  "kernelspec": {
   "display_name": "Python 3",
   "language": "python",
   "name": "python3"
  },
  "language_info": {
   "codemirror_mode": {
    "name": "ipython",
    "version": 3
   },
   "file_extension": ".py",
   "mimetype": "text/x-python",
   "name": "python",
   "nbconvert_exporter": "python",
   "pygments_lexer": "ipython3",
   "version": "3.5.0"
  }
 },
 "nbformat": 4,
 "nbformat_minor": 1
}
