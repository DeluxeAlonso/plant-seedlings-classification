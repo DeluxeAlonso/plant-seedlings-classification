{
 "cells": [
  {
   "cell_type": "code",
   "execution_count": 1,
   "metadata": {},
   "outputs": [
    {
     "name": "stderr",
     "output_type": "stream",
     "text": [
      "Using TensorFlow backend.\n"
     ]
    }
   ],
   "source": [
    "import os\n",
    "import PIL\n",
    "from PIL import Image\n",
    "from keras.applications.resnet50 import preprocess_input, ResNet50\n",
    "from keras.models import load_model"
   ]
  },
  {
   "cell_type": "code",
   "execution_count": 3,
   "metadata": {},
   "outputs": [
    {
     "name": "stdout",
     "output_type": "stream",
     "text": [
      "['1b490196c.png', '85431c075.png', '506347cfe.png', '7f46a71db.png', '668c1007c.png', '71f5323c5.png', '1f3f44563.png', 'beebe5f4e.png', '780defa2e.png', 'df521c0c0.png', '466bb6d3b.png', '98d819587.png', '223e4af09.png', 'abc331628.png', 'eef131644.png', 'b7a7f6390.png', '7d3045fc3.png', '1926e82fd.png', 'a9d2eab61.png', 'bffc08672.png', '6dd095129.png', '6db684fff.png', 'cec5bf198.png', 'bea23d9f8.png', '48d97c645.png', '31f3dd81f.png', '5b63dcc21.png', 'b4c3df835.png', '3abb502fb.png', '54b3afd58.png', '550a8b7e6.png', '8585f9718.png', 'e478c452c.png', '25a4c427e.png', '39b740f7e.png', '0021e90e4.png', '9c32a797e.png', '958bb9e96.png', 'bd789d151.png', 'e19ad6ac9.png', 'b7192c70f.png', '24d78df74.png', '0437393b1.png', 'f9b6bfb00.png', '3fbd0fc6a.png', 'fa9f3a8f9.png', 'e88bf0db9.png', '8a8d6c712.png', '377283a21.png', '19618ad6a.png', 'a85b48a95.png', '892e9d6c6.png', 'e5297b675.png', 'af45e222a.png', '026716f9b.png', 'c60e91e07.png', '003d61042.png', 'b9062c1c8.png', '866be78b0.png', '7cabd68cc.png', 'fe9e87b78.png', 'c6c8d4ba0.png', '3bbef3ecb.png', '54c8bb900.png', '5dcad9a53.png', 'ef74dbcad.png', '270b939cf.png', '0c27cf05f.png', 'afcf6abd5.png', 'e921021a8.png', '808578ed5.png', '1f290e016.png', 'a890ac088.png', '20e562fd5.png', 'e7077322d.png', '855955aaf.png', 'b341d0aab.png', '97b2f0a10.png', 'e4d5ec761.png', 'a4b61a4ea.png', 'e1a0e3202.png', '30ad31220.png', 'ab35453cb.png', '1541bdb2e.png', '13b9fa92d.png', '7691014a1.png', '76dbd1054.png', 'ba3ce6b3e.png', '25cf6eb73.png', '8e3ed0a25.png', '8c9953903.png', '6edb96d45.png', '1d48b7564.png', '6a47821f9.png', 'bb7621cb3.png', 'd89db156f.png', 'ac75d3326.png', '32a8c8a1d.png', '79fba50db.png', 'ffc6f8527.png', '5b3000b9a.png', 'ad12382d4.png', '98da6ef4e.png', 'b0acaff4a.png', '60ee66ddd.png', 'ace8761dd.png', '4ac29bbf0.png', 'ef9676433.png', '8e4eaeec0.png', '486e59179.png', '55a852f40.png', 'bebcaab66.png', 'bb64660b7.png', '6049234e6.png', '7beb2766f.png', '65e262a6d.png', '5bdcfa329.png', '5ca2687a4.png', 'b573b7a56.png', 'd2fd9df40.png', '9b9911f20.png', 'd350a25fa.png', 'b47691c08.png', '8e29abce1.png', '99036c51d.png', 'f445fe6fb.png', '90b595f12.png', '43ede9de9.png', '29bab7cad.png', '82b5f4d33.png', '785a73ab8.png', 'd2f0f326e.png', '809eb0b82.png', '11d3f68ff.png', 'b215531dd.png', '007b3da8b.png', '35ebe165c.png', '0a64e3e6c.png', '65e97117e.png', 'ac3193f78.png', 'bf3924a57.png', 'c26ccf73c.png', '29ce426a1.png', 'c10ccbd82.png', 'fa5fd1384.png', 'c5e419015.png', '1c680883c.png', 'c35efa095.png', '32b42c120.png', '686dc7ec8.png', 'f4021df6c.png', 'c7051c902.png', 'c832e4302.png', 'efe19dc32.png', 'adb7a032c.png', '429211ee6.png', '33748968f.png', '4049a6ea6.png', 'da4ed3a28.png', 'a2b703e21.png', '6be169e41.png', '7615e52d3.png', 'c63da993b.png', '780bd2a2c.png', '02cfeb38d.png', 'b4f7c9214.png', '8a4d3a1b1.png', 'a93f940d6.png', '86c309150.png', '6edc76e7c.png', '728eabae1.png', 'a800caead.png', '599c82eea.png', '20817c846.png', '5a6bf96f6.png', 'bd72d4d8a.png', '8f523520c.png', '5ee9d0a5b.png', '2d5058a59.png', '03e322a29.png', 'c1ecff98b.png', 'a0f37c726.png', '589e643b8.png', '0d117d910.png', '9aa5587fe.png', '060f1dc84.png', 'f25996db8.png', 'c75a82234.png', '34dd57ca9.png', 'd09275360.png', '96ecad7a1.png', '26e7ae885.png', '7696badea.png', 'c5e88cd42.png', '862b8e7a0.png', '24dbc3b21.png', '632156793.png', 'b03397525.png', '33448fe39.png', '90d119d25.png', 'b687160f5.png', 'e96e57a90.png', 'f3fcfff1b.png', '59358cd44.png', '47b7d8e17.png', '6908fb540.png', '1364b297a.png', 'f2dc546ca.png', '2406d6c99.png', '126a71ce0.png', 'b145ba9d4.png', '87f627bf9.png', '7b52585da.png', '44e8b8833.png', '8d6acbe9b.png', '88d8a4508.png', '8a30b2de3.png', '0086a6340.png', '55251925f.png', '043449b0b.png', '22fbf13d6.png', '0bf7bfb05.png', '523e5505c.png', 'd8f4923f8.png', 'cc3d2a59a.png', 'ef02b4ee7.png', '4f83143e1.png', '1b6a6494d.png', 'a83820a2c.png', 'a35fd6fbb.png', '3dd52bd2a.png', 'acdb75e00.png', '4e18ab737.png', '08d591441.png', '2f246d688.png', '64fe8beb9.png', '1be0713da.png', 'a85fc8c9a.png', 'b1cd2a91e.png', 'a276c65f7.png', '07e62f903.png', '5f04aed97.png', 'dcd7ff249.png', '8874bba69.png', 'fadc6adbc.png', '1d321253f.png', '897e5a8de.png', 'fbf88b6be.png', '3f64c2c1b.png', '39858776a.png', 'fb022edf9.png', '0d31e6602.png', '93079d970.png', '6680836dd.png', 'f66ae4070.png', '721be0a4a.png', '0ee4ad224.png', '599691cd9.png', '86f08e6d1.png', 'df11d56a7.png', 'd3331e071.png', '46c14fde2.png', '2d9c798f9.png', '3e9f41817.png', 'c069fc3fa.png', '65489944f.png', 'a74d475c2.png', '74d810f87.png', 'aad8375e0.png', '4a337a4a9.png', 'a254d71f6.png', 'e1abb4ff9.png', '63c07d340.png', '55fed435f.png', '1e095a7e1.png', '8ca6140ca.png', 'cc74feadc.png', 'e5e3dccff.png', 'a169b71e7.png', '3281183f9.png', '406ecb5c5.png', '974959ec1.png', '7fdb7202d.png', '085974290.png', '9baf94467.png', '6982a9d30.png', '664194d19.png', '3eda9cbb6.png', 'ce3d280eb.png', '77ccb8b2a.png', '8faadb6a8.png', '52dc7a4d6.png', '4e1190d78.png', 'da231c97f.png', 'c0bc3997b.png', 'cbba27d89.png', '9d3cb4745.png', '521b27a17.png', '5bbc0a255.png', '67e185673.png', '53e6e9000.png', 'f4234cf4f.png', '4c7838de4.png', 'a19c3faca.png', 'f4e7733d4.png', '8311740de.png', 'c88ebfb47.png', 'e471f1d3a.png', '36d62bf36.png', '9c0c5b731.png', '41e07778c.png', '5c3cd7ea2.png', 'a935ca110.png', '2f0004a7f.png', 'da9ef7858.png', '148bbda66.png', 'b39c71707.png', 'a544fc46d.png', '4c5ab9b68.png', 'cae684f8f.png', '1459e96a0.png', '23bc8ec4f.png', 'd09d24c58.png', '8db450ce3.png', 'f4ad9d950.png', '05341a8a6.png', '5315c2dca.png', '5296835a0.png', '721b2c47a.png', '1d56351b2.png', '79d93bc96.png', '50de8a115.png', '6df8e31ea.png', 'cd5f0db1c.png', 'e82017baa.png', 'd668409ff.png', '279df95f2.png', '9cce7328c.png', '187668bde.png', '406162ef9.png', '490c4f9c8.png', '32c86784b.png', 'b31292706.png', '3185294c8.png', 'bfab3e3d0.png', '122913909.png', '47f9e5d91.png', '3b73c3b61.png', '3f826b318.png', 'e15472085.png', '37c3108d6.png', 'd0152bd7c.png', 'abf8b0772.png', '16357b436.png', '86676d627.png', 'b30ab4659.png', '7a38416be.png', '6b9d6f8c9.png', '116b136de.png', 'e19673dc9.png', 'fe29629fb.png', '7f9e9565d.png', '42e7ed442.png', 'a38b8a581.png', '03ef36742.png', '06d12f6fa.png', 'fba8fc78a.png', 'e9d48d664.png', '48231e475.png', '3526b05cc.png', '7506c0c02.png', '770a265f5.png', '2ff5cb348.png', 'f48916a8c.png', '66ab0e8d0.png', '1bf9b94a6.png', '55920f07f.png', '8303b27ed.png', '8e6ec1ca6.png', '88ac6df54.png', '592cc5b89.png', 'e73e308be.png', '3efa1f66c.png', '5bc6595f6.png', '6c874918c.png', 'a8da9c08d.png', 'e84464f5a.png', '1694a70e4.png', '20f983a71.png', '00c47e980.png', 'a8de7c1b7.png', '2e86f1085.png', 'c64370a72.png', 'cfb18d262.png', '953496deb.png', '0c45ace27.png', '2a667e099.png', '539961189.png', '856f2910a.png', '4bbfd1e05.png', '26852751a.png', '647689543.png', 'fda39e16f.png', 'ec08a5d56.png', '754b1adf8.png', '711b46fba.png', '8cf909eb3.png', '219fd68d5.png', '9c8b08a24.png', '653193c1a.png', '14bb43eee.png', '17a78fb44.png', '3da774107.png', 'c7b07431e.png', 'a74bf916d.png', 'a8388a37f.png', '60f0bc617.png', '8a32d0bfa.png', '00d090cde.png', 'e4a76885b.png', 'fd925f542.png', 'e15fce4f2.png', 'c74c5b7fc.png', '37e545a60.png', 'cd6adba97.png', '1312065a5.png', '8b043093d.png', 'e5881dd33.png', '78c5fba1d.png', 'ef7a5651d.png', 'fea1d13d6.png', '9fab816f2.png', '60fea2ef6.png', 'afa446484.png', '53ceb4657.png', '2ea664465.png', 'fea355851.png', 'a060c1cf8.png', 'd563be369.png', '0911d3dee.png', '391dcd7fd.png', '8d6991365.png', 'c5078bac5.png', '0751c0bbc.png', 'c0f5d9ac8.png', '5af1d74ee.png', '35cf9fa01.png', '71e73a8a0.png', 'dabe3e5be.png', '6da892be6.png', 'dabea05f4.png', '4e9d3765f.png', 'e901b0f28.png', '165681fd9.png', '65d08b894.png', '8301b0547.png', '99569b224.png', '976e4e079.png', 'a8b431a3e.png', 'f85ed9b6d.png', '5817b766d.png', '4b032563b.png', '606647f64.png', 'b944a49ca.png', '8ece6efec.png', 'f33e9d918.png', '6d6eb3830.png', 'd41d87796.png', 'b026bf8ca.png', 'b62dca166.png', '4823c3ffa.png', '338c7e907.png', 'e52493d0b.png', 'b130a0632.png', '0caeda5df.png', '0c51bf229.png', '590f5aea6.png', 'e3f50adfc.png', 'd488a4fe1.png', '8cfd98117.png', 'e5064f6be.png', '239bdf640.png', '0c5f6c493.png', 'b6a3f7876.png', 'c2de6020a.png', '24a058589.png', '59e1cea8d.png', 'be2499cf4.png', '17529c555.png', '19fdf19fb.png', 'fef2ade8c.png', 'a0b393945.png', 'c0461776c.png', '699d3c707.png', 'aa7d098d1.png', 'ef3e232ad.png', '615d2b0a9.png', 'ce42adffb.png', 'fdea6b119.png', 'cf3a8b2fd.png', 'aecfaed64.png', '20ea96bcc.png', '800a8c17e.png', '0ebf8f2f4.png', '966ae5ad9.png', 'c10db7ae2.png', 'a2d25b4f3.png', 'f351ce097.png', 'a2c89c367.png', '4bbf1f6ea.png', '39d569be4.png', '29f49cd0b.png', '92292055d.png', 'fda0b5c38.png', 'c06e7c748.png', 'b6f3d8b5d.png', 'ff65bc002.png', '8170d33c1.png', 'fd253a74e.png', '258b1183c.png', 'e721c6ac8.png', 'c6b76307d.png', '3f92d8039.png', '00ef713a8.png', '71b232519.png', 'd7017f701.png', '36839d5e9.png', 'f6d250856.png', 'dd5ec63d9.png', 'd93c7ab6d.png', 'a3d0031fd.png', '79dafec17.png', '2df78338c.png', '5bd71f445.png', '8455169fe.png', '3827436f3.png', '0625f063b.png', 'e0ec5b6a1.png', 'a006a475c.png', '03a2ee656.png', 'e6f1211a2.png', '9a3f20121.png', 'dd9f36df7.png', 'ce15eee52.png', 'dce2f6612.png', '61dd2cdc5.png', 'fea3da57c.png', '8e2e5604e.png', '1758a1baf.png', '01291174f.png', 'dfb1d9012.png', '444473900.png', 'e80a259c5.png', 'bb1d1bfd3.png', 'b3d6fdb80.png', '03566743d.png', 'ae90f2827.png', '7c85b0265.png', '2a5064f19.png', 'cf46d09c5.png', '23e480e64.png', 'e98e5d1d5.png', '060450d79.png', '071cb3ece.png', 'cbe761896.png', 'c50335991.png', 'f9ea23fb5.png', 'f1f7c833f.png', 'eec1079a1.png', 'cf90fc52d.png', 'b3e08b037.png', '963544aa0.png', '37714071b.png', 'd14aa43f3.png', '3d65168c2.png', '837ac0270.png', '59f62ad1d.png', '9326bda1b.png', '04814f36d.png', 'd515398fd.png', 'd2f422ccb.png', '2d992d1fb.png', '56a01b835.png', '248436078.png', '3d38a87bc.png', '6b721f68e.png', '5ca0205f9.png', '97844bfd5.png', '063363305.png', 'd9c50616e.png', '1cfd91582.png', '24d36c52c.png', '67ce3eaa6.png', '827279bad.png', 'f593c9cf0.png', '1623fb9e1.png', '6a41bf95b.png', '808cf55c6.png', '5eb9c26a6.png', 'c0d9e170b.png', '752101fdf.png', 'fd87b36ae.png', '4b155fb07.png', '35a90f8d0.png', '1fefb54b7.png', '089ad62a7.png', 'f9f35cbd4.png', '0885e7690.png', '4f44ca525.png', '659412b1a.png', '205df1df3.png', 'a5db42f7d.png', '5a38ac566.png', '5883b423d.png', 'de0b79659.png', 'df7cb5f87.png', '8dbb8e1b9.png', '0f6cbe5e8.png', '7b21ba6ba.png', '74068643d.png', '0ad9e7dfb.png', '25fa8d109.png', '7d22abf91.png', 'b828443ff.png', 'e5368474f.png', '604dd663f.png', '099b961ec.png', 'c7ae30f3a.png', '8bc0261c9.png', '52a87abe5.png', 'cadab6616.png', '33317fc2a.png', '1d0cbd819.png', 'eaf0815e2.png', '4c8005bbc.png', '2bd74d2da.png', 'dc4cd56a3.png', 'aee6fa3df.png', 'f0ffa00bd.png', '69d1669f8.png', 'd689256be.png', '0c4199daa.png', '87608f7aa.png', '995c7ab1e.png', '8104422bb.png', 'c4ed8ed38.png', '8916793ce.png', '5779fe8b4.png', '1c52ea820.png', 'caa2fbd79.png', '288564c76.png', 'a55d26a4c.png', '59b2c6f2b.png', 'e9cd91682.png', '0ae6668fa.png', 'c8f50f0c3.png', 'da5255450.png', '16fd2e01a.png', '9d79a1f0c.png', '73260a4ee.png', '56112b92c.png', 'd17f48d3b.png', '1376f3b63.png', '756dd5070.png', '4e69d100a.png', '9df3275da.png', 'bb20fce02.png', '446f7da01.png', '17d5e5ac4.png', '1821eb11a.png', '6ba4ef411.png', '16467a950.png', '80e299ae9.png', 'fc3e58836.png', '558aa7deb.png', '75cb95e91.png', '38c054379.png', '36ed4f215.png', '19e58cc5e.png', 'cfd8165e9.png', 'b98327bf4.png', '592473c83.png', '2126dc71b.png', 'a1da8be3c.png', 'e1809cef2.png', 'd102e1a15.png', 'cb496f36e.png', 'be341dbdc.png', '7d4cd07ad.png', '4bcdaa5e2.png', 'd0cdc768f.png', 'e783f5a4f.png', 'f4caf74f9.png', '74fd477eb.png', '6bce55e05.png', 'e14afa235.png', '2dd5cfba9.png', 'a1e0a6c02.png', '618de3d7a.png', '3eebd36c6.png', '502dff972.png', '241e6935a.png', 'edfdb4aeb.png', '48ef6a2ff.png', '19b51843a.png', 'b29339405.png', '39c8fde99.png', 'ef65533d5.png', 'b5c7fd009.png', '2693e5c65.png', 'd5f7dd60a.png', '1191ba346.png', '177d7e2a4.png', '9643fc5f4.png', 'bdde957ec.png', 'c85ef220d.png', '5e6a237f2.png', 'ab0f67743.png', '3d67c434b.png', '969a851be.png', 'f1e87cba7.png', '12625488b.png', 'd84d37a61.png', '71334c634.png', '8b9144917.png', 'b2706e2b3.png', '22e79540f.png', 'b7ad92859.png', '675ec1b0b.png', '41f1c3cdb.png', '0e8492cb1.png', '93d76fd5d.png', 'aaf4da98f.png', '31fcdc161.png', '835dc5447.png', '9b4800b42.png', '37297a64c.png', '3ebbe9ca4.png', 'f23faf9c1.png', '4392d93cf.png', 'dc55449b2.png', '8b27bfd2b.png', '3a909ead8.png', 'ede6b84b4.png', 'f8318faf1.png', '96f14d90c.png', '172f9b10b.png', '61b044411.png', '76555b064.png', '9516e56c4.png', '8ab8a958b.png', 'd6d80a321.png', '410e6f702.png', '824f5d4e5.png', 'd01873fdd.png', 'bf66b9cd2.png', 'a8c8a1db0.png', 'da713c465.png', '7f31c7f42.png', 'd6d31dcbe.png', '534e74d83.png', 'd6c8c3c48.png', '3edf5e9ef.png', '8c98a6e9b.png', '2b55a2da2.png', '4ea7493d5.png', '78750e0ff.png', '115f93ecc.png', 'cb76a7766.png', '91e469b4a.png', '9c777333d.png', '1dc7c45df.png', 'fc6f686fb.png', '4287d810c.png', '0fb233ad6.png', 'a7bd7cadb.png', 'bb1c84bbc.png', '1f5e5554e.png', '79e5ea8fa.png', '3fbf1a417.png', 'c7eb96871.png', '59c6a9f95.png', '5b3beec58.png', '851c90831.png', '98062cd87.png', '7e9cf1c46.png', 'a3b375b34.png', '0dba99002.png', '593896f83.png', '456d507c0.png', '78b1bf91a.png', '8cf2e3e6c.png', '948cdb277.png', '24c94a6ca.png']\n"
     ]
    }
   ],
   "source": [
    "DATA_FOLDER = '../data/test/'\n",
    "PP_TEST_DATA = 'data/test_data.h5'\n",
    "SHAPE = (250, 250, 3)\n",
    "\n",
    "files = os.listdir(DATA_FOLDER)\n",
    "print(files)\n",
    "n_files = len(files)"
   ]
  },
  {
   "cell_type": "code",
   "execution_count": 3,
   "metadata": {},
   "outputs": [
    {
     "name": "stdout",
     "output_type": "stream",
     "text": [
      "0793/0794\r"
     ]
    }
   ],
   "source": [
    "import numpy as np\n",
    "\n",
    "batch_x = np.ndarray((n_files, *SHAPE), dtype=np.float32)\n",
    "\n",
    "for idx, file in enumerate(files):\n",
    "    print('%04d/%04d' % (idx, n_files), end='\\r')\n",
    "    path = os.path.join(DATA_FOLDER, file)\n",
    "    img = Image.open(path)\n",
    "    img = img.resize(SHAPE[:2][::-1])\n",
    "    img = img.convert(\"RGB\")\n",
    "    img = np.asarray(img, dtype=np.float32)\n",
    "    batch_x[idx] = img"
   ]
  },
  {
   "cell_type": "code",
   "execution_count": 4,
   "metadata": {
    "collapsed": true
   },
   "outputs": [],
   "source": [
    "batch_x = preprocess_input(batch_x)"
   ]
  },
  {
   "cell_type": "code",
   "execution_count": 5,
   "metadata": {},
   "outputs": [
    {
     "name": "stdout",
     "output_type": "stream",
     "text": [
      "794/794 [==============================] - 512s   \n"
     ]
    }
   ],
   "source": [
    "base_model = ResNet50(include_top=False, input_shape=SHAPE)\n",
    "base_model.layers.pop()\n",
    "\n",
    "preds = base_model.predict(batch_x, batch_size=16, verbose=1)"
   ]
  },
  {
   "cell_type": "code",
   "execution_count": 6,
   "metadata": {
    "collapsed": true
   },
   "outputs": [],
   "source": [
    "np.save(PP_TEST_DATA, preds)"
   ]
  },
  {
   "cell_type": "code",
   "execution_count": 8,
   "metadata": {},
   "outputs": [
    {
     "data": {
      "text/plain": [
       "(794, 1, 1, 2048)"
      ]
     },
     "execution_count": 8,
     "metadata": {},
     "output_type": "execute_result"
    }
   ],
   "source": [
    "loaded_preds = np.load(PP_TEST_DATA + '.npy')\n",
    "loaded_preds.shape"
   ]
  },
  {
   "cell_type": "code",
   "execution_count": null,
   "metadata": {
    "collapsed": true
   },
   "outputs": [],
   "source": []
  }
 ],
 "metadata": {
  "kernelspec": {
   "display_name": "Python 3",
   "language": "python",
   "name": "python3"
  },
  "language_info": {
   "codemirror_mode": {
    "name": "ipython",
    "version": 3
   },
   "file_extension": ".py",
   "mimetype": "text/x-python",
   "name": "python",
   "nbconvert_exporter": "python",
   "pygments_lexer": "ipython3",
   "version": "3.5.0"
  }
 },
 "nbformat": 4,
 "nbformat_minor": 1
}
