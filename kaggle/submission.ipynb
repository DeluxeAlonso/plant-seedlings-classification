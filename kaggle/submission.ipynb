{
 "cells": [
  {
   "cell_type": "code",
   "execution_count": 1,
   "metadata": {},
   "outputs": [
    {
     "name": "stderr",
     "output_type": "stream",
     "text": [
      "Using TensorFlow backend.\n"
     ]
    }
   ],
   "source": [
    "import os\n",
    "import PIL\n",
    "from PIL import Image\n",
    "from keras.applications.resnet50 import preprocess_input, ResNet50\n",
    "from keras.models import load_model\n",
    "import numpy as np\n",
    "from keras import backend as K\n",
    "from sklearn.externals import joblib"
   ]
  },
  {
   "cell_type": "code",
   "execution_count": 2,
   "metadata": {
    "collapsed": true
   },
   "outputs": [],
   "source": [
    "import pandas as pd\n",
    "\n",
    "TEST_DATA = '../data/test_data.h5.npy'\n",
    "OUTPUT_FILE = '../kaggle/submission.csv'\n",
    "METADATA = '../metadata.npy'\n",
    "\n",
    "metadata = np.load(METADATA).item()"
   ]
  },
  {
   "cell_type": "code",
   "execution_count": 3,
   "metadata": {},
   "outputs": [
    {
     "data": {
      "text/plain": [
       "(794, 1, 1, 2048)"
      ]
     },
     "execution_count": 3,
     "metadata": {},
     "output_type": "execute_result"
    }
   ],
   "source": [
    "pre_trained_preds = np.load(TEST_DATA)\n",
    "pre_trained_preds.shape"
   ]
  },
  {
   "cell_type": "code",
   "execution_count": 4,
   "metadata": {
    "collapsed": true
   },
   "outputs": [],
   "source": [
    "def recall(y_true, y_pred):\n",
    "    true_positives = K.sum(K.round(K.clip(y_true * y_pred, 0, 1)))\n",
    "    possible_positives = K.sum(K.round(K.clip(y_true, 0, 1)))\n",
    "    recall = true_positives / (possible_positives + K.epsilon())\n",
    "    return recall\n",
    "\n",
    "def precision(y_true, y_pred):\n",
    "    true_positives = K.sum(K.round(K.clip(y_true * y_pred, 0, 1)))\n",
    "    predicted_positives = K.sum(K.round(K.clip(y_pred, 0, 1)))\n",
    "    precision = true_positives / (predicted_positives + K.epsilon())\n",
    "    return precision\n",
    "\n",
    "def f1(y_true, y_pred):\n",
    "    \n",
    "    def recall(y_true, y_pred):\n",
    "        true_positives = K.sum(K.round(K.clip(y_true * y_pred, 0, 1)))\n",
    "        possible_positives = K.sum(K.round(K.clip(y_true, 0, 1)))\n",
    "        recall = true_positives / (possible_positives + K.epsilon())\n",
    "        return recall\n",
    "    \n",
    "    def precision(y_true, y_pred):\n",
    "        true_positives = K.sum(K.round(K.clip(y_true * y_pred, 0, 1)))\n",
    "        predicted_positives = K.sum(K.round(K.clip(y_pred, 0, 1)))\n",
    "        precision = true_positives / (predicted_positives + K.epsilon())\n",
    "        return precision\n",
    "    \n",
    "    recall = recall(y_true, y_pred)\n",
    "    precision = precision(y_true, y_pred)\n",
    "    return 2*((precision*recall)/(precision+recall))"
   ]
  },
  {
   "cell_type": "code",
   "execution_count": 6,
   "metadata": {},
   "outputs": [],
   "source": [
    "def get_cnn_predictions(pre_trained_preds):\n",
    "    models_filenames = ['KF_CNN_Model1', 'KF_CNN_Model2', \n",
    "                    'KF_CNN_Model3', 'KF_CNN_Model4',\n",
    "                    'KF_CNN_Model5', 'KF_CNN_Model6',\n",
    "                    'KF_CNN_Model7']\n",
    "\n",
    "    probabilities = []\n",
    "\n",
    "    for m_filename in models_filenames: \n",
    "        cnn_model = load_model('../models/Kaggle/CNN/' + m_filename + '.h5', custom_objects={'recall': recall, 'precision': precision, 'f1': f1})\n",
    "        cnn_proba = cnn_model.predict_proba(pre_trained_preds)\n",
    "        probabilities.append(cnn_proba)\n",
    "\n",
    "    weights = [1] * len(models_filenames)\n",
    "\n",
    "    proba = np.asarray(probabilities)\n",
    "    proba = np.average(proba, axis=0, weights=weights)\n",
    "    preds = proba.argmax(1)\n",
    "    \n",
    "    return proba, preds\n",
    "\n",
    "def get_gb_predictions(pre_trained_preds):\n",
    "    reshaped_preds = pre_trained_preds.reshape(pre_trained_preds.shape[0], -1)\n",
    "\n",
    "    gb_model = joblib.load(\"../models/Kaggle/GB_Model.h5\")\n",
    "    proba = gb_model.predict_proba(reshaped_preds)\n",
    "    preds = gb_model.predict(reshaped_preds)\n",
    "    \n",
    "    return proba, preds\n",
    "\n",
    "def get_voting_predictions(pre_trained_preds, voting_weights):\n",
    "    cnn_proba, cnn_preds = get_cnn_predictions(pre_trained_preds)\n",
    "    gb_proba, gb_preds = get_gb_predictions(pre_trained_preds)\n",
    "    \n",
    "    if voting_weights is None:\n",
    "        voting_weights = [1,1]\n",
    "    \n",
    "    proba = np.asarray([cnn_proba, gb_proba])\n",
    "    proba = np.average(proba, axis=0, weights=voting_weights)\n",
    "    \n",
    "    preds = proba.argmax(1)\n",
    "    \n",
    "    return proba, preds\n"
   ]
  },
  {
   "cell_type": "code",
   "execution_count": 7,
   "metadata": {
    "collapsed": true
   },
   "outputs": [],
   "source": [
    "def get_predictions(pre_trained_preds, model=\"CNN\", voting_weights=None):\n",
    "    if model == \"CNN\":\n",
    "        proba, preds = get_cnn_predictions(pre_trained_preds)\n",
    "    elif model == \"GB\":\n",
    "        proba, preds = get_gb_predictions(pre_trained_preds)\n",
    "    elif model == \"VOTING\":\n",
    "        proba, preds = get_voting_predictions(pre_trained_preds, voting_weights)\n",
    "    return preds"
   ]
  },
  {
   "cell_type": "code",
   "execution_count": 13,
   "metadata": {},
   "outputs": [
    {
     "name": "stdout",
     "output_type": "stream",
     "text": [
      "794/794 [==============================] - 0s     \n",
      "794/794 [==============================] - 0s     \n",
      "672/794 [========================>.....] - ETA: 0s"
     ]
    }
   ],
   "source": [
    "preds = get_predictions(pre_trained_preds, model=\"VOTING\", voting_weights=[2,1])"
   ]
  },
  {
   "cell_type": "code",
   "execution_count": 14,
   "metadata": {},
   "outputs": [
    {
     "data": {
      "text/html": [
       "<div>\n",
       "<style>\n",
       "    .dataframe thead tr:only-child th {\n",
       "        text-align: right;\n",
       "    }\n",
       "\n",
       "    .dataframe thead th {\n",
       "        text-align: left;\n",
       "    }\n",
       "\n",
       "    .dataframe tbody tr th {\n",
       "        vertical-align: top;\n",
       "    }\n",
       "</style>\n",
       "<table border=\"1\" class=\"dataframe\">\n",
       "  <thead>\n",
       "    <tr style=\"text-align: right;\">\n",
       "      <th></th>\n",
       "      <th>file</th>\n",
       "      <th>species</th>\n",
       "    </tr>\n",
       "  </thead>\n",
       "  <tbody>\n",
       "    <tr>\n",
       "      <th>0</th>\n",
       "      <td>1b490196c.png</td>\n",
       "      <td>NaN</td>\n",
       "    </tr>\n",
       "    <tr>\n",
       "      <th>1</th>\n",
       "      <td>85431c075.png</td>\n",
       "      <td>NaN</td>\n",
       "    </tr>\n",
       "    <tr>\n",
       "      <th>2</th>\n",
       "      <td>506347cfe.png</td>\n",
       "      <td>NaN</td>\n",
       "    </tr>\n",
       "    <tr>\n",
       "      <th>3</th>\n",
       "      <td>7f46a71db.png</td>\n",
       "      <td>NaN</td>\n",
       "    </tr>\n",
       "    <tr>\n",
       "      <th>4</th>\n",
       "      <td>668c1007c.png</td>\n",
       "      <td>NaN</td>\n",
       "    </tr>\n",
       "  </tbody>\n",
       "</table>\n",
       "</div>"
      ],
      "text/plain": [
       "            file species\n",
       "0  1b490196c.png     NaN\n",
       "1  85431c075.png     NaN\n",
       "2  506347cfe.png     NaN\n",
       "3  7f46a71db.png     NaN\n",
       "4  668c1007c.png     NaN"
      ]
     },
     "execution_count": 14,
     "metadata": {},
     "output_type": "execute_result"
    }
   ],
   "source": [
    "DATA_FOLDER = '../data/test/'\n",
    "\n",
    "files = os.listdir(DATA_FOLDER)\n",
    "\n",
    "n_files = len(files)\n",
    "\n",
    "cols = ['file','species']\n",
    "df_stg1 = pd.DataFrame(columns=cols)\n",
    "\n",
    "df_stg1['file'] = [f for f in files]\n",
    "df_stg1.head()"
   ]
  },
  {
   "cell_type": "code",
   "execution_count": 15,
   "metadata": {},
   "outputs": [],
   "source": [
    "classes = ['Black-grass', 'Charlock', 'Cleavers', 'Common Chickweed', \n",
    "           'Common wheat', 'Fat Hen', 'Loose Silky-bent', 'Maize', \n",
    "           'Scentless Mayweed', 'Shepherds Purse', 'Small-flowered Cranesbill', 'Sugar beet']\n",
    "species = []\n",
    "for pred in preds:\n",
    "    species.append(classes[pred])"
   ]
  },
  {
   "cell_type": "code",
   "execution_count": 16,
   "metadata": {},
   "outputs": [
    {
     "data": {
      "text/html": [
       "<div>\n",
       "<style>\n",
       "    .dataframe thead tr:only-child th {\n",
       "        text-align: right;\n",
       "    }\n",
       "\n",
       "    .dataframe thead th {\n",
       "        text-align: left;\n",
       "    }\n",
       "\n",
       "    .dataframe tbody tr th {\n",
       "        vertical-align: top;\n",
       "    }\n",
       "</style>\n",
       "<table border=\"1\" class=\"dataframe\">\n",
       "  <thead>\n",
       "    <tr style=\"text-align: right;\">\n",
       "      <th></th>\n",
       "      <th>file</th>\n",
       "      <th>species</th>\n",
       "    </tr>\n",
       "  </thead>\n",
       "  <tbody>\n",
       "    <tr>\n",
       "      <th>0</th>\n",
       "      <td>1b490196c.png</td>\n",
       "      <td>Shepherds Purse</td>\n",
       "    </tr>\n",
       "    <tr>\n",
       "      <th>1</th>\n",
       "      <td>85431c075.png</td>\n",
       "      <td>Loose Silky-bent</td>\n",
       "    </tr>\n",
       "    <tr>\n",
       "      <th>2</th>\n",
       "      <td>506347cfe.png</td>\n",
       "      <td>Cleavers</td>\n",
       "    </tr>\n",
       "    <tr>\n",
       "      <th>3</th>\n",
       "      <td>7f46a71db.png</td>\n",
       "      <td>Sugar beet</td>\n",
       "    </tr>\n",
       "    <tr>\n",
       "      <th>4</th>\n",
       "      <td>668c1007c.png</td>\n",
       "      <td>Charlock</td>\n",
       "    </tr>\n",
       "  </tbody>\n",
       "</table>\n",
       "</div>"
      ],
      "text/plain": [
       "            file           species\n",
       "0  1b490196c.png   Shepherds Purse\n",
       "1  85431c075.png  Loose Silky-bent\n",
       "2  506347cfe.png          Cleavers\n",
       "3  7f46a71db.png        Sugar beet\n",
       "4  668c1007c.png          Charlock"
      ]
     },
     "execution_count": 16,
     "metadata": {},
     "output_type": "execute_result"
    }
   ],
   "source": [
    "df_stg1['species'] = species\n",
    "df_stg1.head()"
   ]
  },
  {
   "cell_type": "code",
   "execution_count": 17,
   "metadata": {
    "collapsed": true
   },
   "outputs": [],
   "source": [
    "df_stg1 = df_stg1.sort_values(by=['file'])\n",
    "df_stg1.to_csv(OUTPUT_FILE, index=False)"
   ]
  },
  {
   "cell_type": "code",
   "execution_count": null,
   "metadata": {
    "collapsed": true
   },
   "outputs": [],
   "source": []
  }
 ],
 "metadata": {
  "kernelspec": {
   "display_name": "Python 3",
   "language": "python",
   "name": "python3"
  },
  "language_info": {
   "codemirror_mode": {
    "name": "ipython",
    "version": 3
   },
   "file_extension": ".py",
   "mimetype": "text/x-python",
   "name": "python",
   "nbconvert_exporter": "python",
   "pygments_lexer": "ipython3",
   "version": "3.5.0"
  }
 },
 "nbformat": 4,
 "nbformat_minor": 2
}
