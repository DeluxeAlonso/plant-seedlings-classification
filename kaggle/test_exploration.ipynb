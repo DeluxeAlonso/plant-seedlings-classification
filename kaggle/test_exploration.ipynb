{
 "cells": [
  {
   "cell_type": "code",
   "execution_count": 1,
   "metadata": {
    "collapsed": true
   },
   "outputs": [],
   "source": [
    "import os\n",
    "import random\n",
    "import numpy as np\n",
    "from matplotlib import pyplot as plt\n",
    "%matplotlib inline"
   ]
  },
  {
   "cell_type": "code",
   "execution_count": 8,
   "metadata": {
    "collapsed": true
   },
   "outputs": [],
   "source": [
    "def recall(y_true, y_pred):\n",
    "    true_positives = K.sum(K.round(K.clip(y_true * y_pred, 0, 1)))\n",
    "    possible_positives = K.sum(K.round(K.clip(y_true, 0, 1)))\n",
    "    recall = true_positives / (possible_positives + K.epsilon())\n",
    "    return recall\n",
    "\n",
    "def precision(y_true, y_pred):\n",
    "    true_positives = K.sum(K.round(K.clip(y_true * y_pred, 0, 1)))\n",
    "    predicted_positives = K.sum(K.round(K.clip(y_pred, 0, 1)))\n",
    "    precision = true_positives / (predicted_positives + K.epsilon())\n",
    "    return precision\n",
    "\n",
    "def f1(y_true, y_pred):\n",
    "    \n",
    "    def recall(y_true, y_pred):\n",
    "        true_positives = K.sum(K.round(K.clip(y_true * y_pred, 0, 1)))\n",
    "        possible_positives = K.sum(K.round(K.clip(y_true, 0, 1)))\n",
    "        recall = true_positives / (possible_positives + K.epsilon())\n",
    "        return recall\n",
    "    \n",
    "    def precision(y_true, y_pred):\n",
    "        true_positives = K.sum(K.round(K.clip(y_true * y_pred, 0, 1)))\n",
    "        predicted_positives = K.sum(K.round(K.clip(y_pred, 0, 1)))\n",
    "        precision = true_positives / (predicted_positives + K.epsilon())\n",
    "        return precision\n",
    "    \n",
    "    recall = recall(y_true, y_pred)\n",
    "    precision = precision(y_true, y_pred)\n",
    "    return 2*((precision*recall)/(precision+recall))"
   ]
  },
  {
   "cell_type": "code",
   "execution_count": 10,
   "metadata": {},
   "outputs": [],
   "source": [
    "from keras.applications.resnet50 import preprocess_input, ResNet50\n",
    "from keras.models import load_model\n",
    "\n",
    "METADATA = '../metadata.npy'\n",
    "SHAPE = (250, 250, 3)\n",
    "metadata = np.load(METADATA).item()\n",
    "base_model = ResNet50(include_top=False, input_shape=SHAPE)\n",
    "base_model.layers.pop()\n",
    "model = load_model('../models/CNN_Model.h5', custom_objects={'recall': recall, 'precision': precision, 'f1': f1})"
   ]
  },
  {
   "cell_type": "code",
   "execution_count": 12,
   "metadata": {},
   "outputs": [
    {
     "name": "stdout",
     "output_type": "stream",
     "text": [
      "[('Black-grass', 1.3553379e-05),\n",
      " ('Charlock', 0.00077064231),\n",
      " ('Cleavers', 3.3904216e-05),\n",
      " ('Common Chickweed', 0.00024107458),\n",
      " ('Common wheat', 5.7182983e-06),\n",
      " ('Fat Hen', 3.205123e-05),\n",
      " ('Loose Silky-bent', 1.8237231e-05),\n",
      " ('Maize', 1.5862446e-06),\n",
      " ('Scentless Mayweed', 0.000941479),\n",
      " ('Shepherds Purse', 0.99744272),\n",
      " ('Small-flowered Cranesbill', 0.00047248436),\n",
      " ('Sugar beet', 2.6579539e-05)]\n"
     ]
    }
   ],
   "source": [
    "from keras import backend as K\n",
    "from PIL import Image\n",
    "from pprint import pprint\n",
    "\n",
    "labels_dict = {np.argmax(metadata[i]):i for i in metadata.keys()}\n",
    "\n",
    "img = Image.open(\"../data/test/1b490196c.png\")\n",
    "img = img.resize(SHAPE[:2][::-1])\n",
    "img = np.asarray(img, dtype=np.float32)\n",
    "img = preprocess_input(img.reshape([-1, *SHAPE]))\n",
    "\n",
    "# Get pred\n",
    "pp_img = base_model.predict(img)\n",
    "y = model.predict(pp_img)\n",
    "label = labels_dict[np.argmax(y)]\n",
    "info = [(labels_dict[i],j) for i,j in enumerate(y[0])]\n",
    "pprint(info)"
   ]
  },
  {
   "cell_type": "code",
   "execution_count": null,
   "metadata": {
    "collapsed": true
   },
   "outputs": [],
   "source": []
  }
 ],
 "metadata": {
  "kernelspec": {
   "display_name": "Python 3",
   "language": "python",
   "name": "python3"
  },
  "language_info": {
   "codemirror_mode": {
    "name": "ipython",
    "version": 3
   },
   "file_extension": ".py",
   "mimetype": "text/x-python",
   "name": "python",
   "nbconvert_exporter": "python",
   "pygments_lexer": "ipython3",
   "version": "3.5.0"
  }
 },
 "nbformat": 4,
 "nbformat_minor": 2
}
